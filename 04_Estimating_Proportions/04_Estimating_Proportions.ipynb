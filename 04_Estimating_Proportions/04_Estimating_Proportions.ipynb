{
 "cells": [
  {
   "cell_type": "markdown",
   "id": "551f869d-cced-4e7e-aeb5-4718b0997ac2",
   "metadata": {},
   "source": [
    "# Estimating Proportions\n",
    "A different problem to the previous example (although computed the same way), where this needs to choose prior/probability to construct the distribution.\n",
    "\n",
    "Use Euro problem as a motivating example \n",
    "\n",
    "## Euro problem\n",
    "Spin an one Euro coin 250 times, get 140 heads, and 110 tails. Is this suspicious?\n",
    "If the coin is unbiased then expect this result 7% of the time.\n",
    "\n",
    "Can we conclude from these data if the coin is biased/fair?\n",
    "\n",
    "Binomial distribution (where 7% came from) and Bayes theorem to calculate probability of the result."
   ]
  },
  {
   "cell_type": "markdown",
   "id": "e0ca53f3-2878-4ad1-955a-4f750328472e",
   "metadata": {},
   "source": [
    "## Binomial distribution\n",
    "A fair coin spun twice has 4 outcomes: HH, HT, TH, TT that have equal probability\n",
    "\n",
    "Generally follows the probability of n coin flips giving k heads:\n",
    "(n k)p^k * (1-p)^(n-k)\n"
   ]
  },
  {
   "cell_type": "code",
   "execution_count": 2,
   "id": "96723bb0-d1c1-48bc-aee3-a9d214744c11",
   "metadata": {},
   "outputs": [
    {
     "data": {
      "text/plain": [
       "0.5000000000000002"
      ]
     },
     "execution_count": 2,
     "metadata": {},
     "output_type": "execute_result"
    }
   ],
   "source": [
    "from scipy.stats import binom\n",
    "n=2\n",
    "p=0.5\n",
    "k=1\n",
    "\n",
    "binom.pmf(k, n, p)"
   ]
  },
  {
   "cell_type": "code",
   "execution_count": 3,
   "id": "e57665aa-47fc-4a8d-a887-6a11e952740d",
   "metadata": {},
   "outputs": [
    {
     "data": {
      "text/plain": [
       "array([0.25, 0.5 , 0.25])"
      ]
     },
     "execution_count": 3,
     "metadata": {},
     "output_type": "execute_result"
    }
   ],
   "source": [
    "#make array for 0, 1, or 2 heads\n",
    "import numpy as np\n",
    "ks = np.arange(n+1)\n",
    "ps = binom.pmf(ks, n, p)\n",
    "ps"
   ]
  },
  {
   "cell_type": "code",
   "execution_count": 4,
   "id": "8d8d9b4d-d80f-49c4-9cf8-a68c1bbe903a",
   "metadata": {},
   "outputs": [
    {
     "data": {
      "text/html": [
       "<div>\n",
       "<style scoped>\n",
       "    .dataframe tbody tr th:only-of-type {\n",
       "        vertical-align: middle;\n",
       "    }\n",
       "\n",
       "    .dataframe tbody tr th {\n",
       "        vertical-align: top;\n",
       "    }\n",
       "\n",
       "    .dataframe thead th {\n",
       "        text-align: right;\n",
       "    }\n",
       "</style>\n",
       "<table border=\"1\" class=\"dataframe\">\n",
       "  <thead>\n",
       "    <tr style=\"text-align: right;\">\n",
       "      <th></th>\n",
       "      <th>probs</th>\n",
       "    </tr>\n",
       "  </thead>\n",
       "  <tbody>\n",
       "    <tr>\n",
       "      <th>0</th>\n",
       "      <td>0.25</td>\n",
       "    </tr>\n",
       "    <tr>\n",
       "      <th>1</th>\n",
       "      <td>0.50</td>\n",
       "    </tr>\n",
       "    <tr>\n",
       "      <th>2</th>\n",
       "      <td>0.25</td>\n",
       "    </tr>\n",
       "  </tbody>\n",
       "</table>\n",
       "</div>"
      ],
      "text/plain": [
       "0    0.25\n",
       "1    0.50\n",
       "2    0.25\n",
       "Name: , dtype: float64"
      ]
     },
     "execution_count": 4,
     "metadata": {},
     "output_type": "execute_result"
    }
   ],
   "source": [
    "from empiricaldist import Pmf\n",
    "pmf_k = Pmf(ps, ks)\n",
    "pmf_k"
   ]
  },
  {
   "cell_type": "code",
   "execution_count": 7,
   "id": "06869ded-23a7-4cb6-9a08-4097b6a1b2bb",
   "metadata": {},
   "outputs": [],
   "source": [
    "#another way to generalize\n",
    "#function given n trials with p probability\n",
    "def make_binomial(n, p):\n",
    "    \"\"\"Make a binomial Pmf.\"\"\"\n",
    "    ks = np.arange(n+1)\n",
    "    ps = binom.pmf(ks, n, p)\n",
    "    return Pmf(ps, ks)\n",
    "\n",
    "pmf_k = make_binomial(n=250, p=0.5)\n"
   ]
  },
  {
   "cell_type": "code",
   "execution_count": 13,
   "id": "c157853d-f821-4f24-8f1a-2962dd176044",
   "metadata": {},
   "outputs": [
    {
     "data": {
      "text/plain": [
       "<AxesSubplot:>"
      ]
     },
     "execution_count": 13,
     "metadata": {},
     "output_type": "execute_result"
    },
    {
     "data": {
      "image/png": "[encoded data removed]",
      "text/plain": [
       "<Figure size 432x288 with 1 Axes>"
      ]
     },
     "metadata": {
      "needs_background": "light"
     },
     "output_type": "display_data"
    }
   ],
   "source": [
    "pmf_k.plot(label='n=250, p=0.5')"
   ]
  },
  {
   "cell_type": "code",
   "execution_count": 14,
   "id": "76703d9a-4282-4b0e-bcc8-a0598469d7ae",
   "metadata": {},
   "outputs": [
    {
     "data": {
      "text/plain": [
       "125"
      ]
     },
     "execution_count": 14,
     "metadata": {},
     "output_type": "execute_result"
    }
   ],
   "source": [
    "#calc most likely result\n",
    "pmf_k.max_prob()\n"
   ]
  },
  {
   "cell_type": "code",
   "execution_count": 17,
   "id": "90034482-0638-4588-8df8-3573d4f1694b",
   "metadata": {},
   "outputs": [
    {
     "data": {
      "text/plain": [
       "5.041221314730966"
      ]
     },
     "execution_count": 17,
     "metadata": {},
     "output_type": "execute_result"
    }
   ],
   "source": [
    "#how often expect to get most likely result?\n",
    "pmf_k[125]*100 \n",
    "\n"
   ]
  },
  {
   "cell_type": "code",
   "execution_count": 21,
   "id": "1db9ca5a-8dfa-45a0-bfa3-2891a36306e3",
   "metadata": {},
   "outputs": [
    {
     "data": {
      "text/plain": [
       "3.321057562002163"
      ]
     },
     "execution_count": 21,
     "metadata": {},
     "output_type": "execute_result"
    }
   ],
   "source": [
    "#how often get the motivating example 140 or more extreme?\n",
    "def prob_ge(pmf, threshold):\n",
    "    \"\"\"Probability of quantities greater than threshold.\"\"\"\n",
    "    ge = (pmf.qs >= threshold)\n",
    "    total = pmf[ge].sum()\n",
    "    return total\n",
    "\n",
    "pmf_k.prob_ge(140)*100"
   ]
  },
  {
   "cell_type": "code",
   "execution_count": 23,
   "id": "cefba0e3-39e0-4030-b601-1f9a71869c58",
   "metadata": {},
   "outputs": [
    {
     "data": {
      "text/plain": [
       "Text(0.5, 0.98, 'Binomial distribution')"
      ]
     },
     "execution_count": 23,
     "metadata": {},
     "output_type": "execute_result"
    },
    {
     "data": {
      "image/png": "[encoded data removed]",
      "text/plain": [
       "<Figure size 432x288 with 1 Axes>"
      ]
     },
     "metadata": {
      "needs_background": "light"
     },
     "output_type": "display_data"
    }
   ],
   "source": [
    "import matplotlib.pyplot as plt\n",
    "\n",
    "def fill_below(pmf):\n",
    "    qs = pmf.index\n",
    "    ps = pmf.values\n",
    "    plt.fill_between(qs, ps, 0, color='C5', alpha=0.4)\n",
    "\n",
    "qs = pmf_k.index\n",
    "fill_below(pmf_k[qs>=140])\n",
    "fill_below(pmf_k[qs<=110])\n",
    "pmf_k.plot(label='n=250, p=0.5')\n",
    "\n",
    "plt.xlabel('Number of heads (k)')\n",
    "plt.ylabel('PMF')\n",
    "plt.suptitle('Binomial distribution')"
   ]
  },
  {
   "cell_type": "markdown",
   "id": "fb625e55-318e-40d3-bec4-6a5400dbb713",
   "metadata": {},
   "source": [
    "# Bayesian Estimation¶\n",
    "\n",
    "A coin has some probability associated with which side it lands on. Factors like the distribution of the coin's weight determine this.  If a coin is perfectly balanced, we might expect it to be fair (50-50).  However if it's lopsided, a significant bias may be introduced. "
   ]
  },
  {
   "cell_type": "code",
   "execution_count": 26,
   "id": "06f4e1e1-ab97-40dc-8a36-1bba62f9b3a6",
   "metadata": {},
   "outputs": [],
   "source": [
    "#construct priors\n",
    "hypos = np.linspace(0, 1, 101)\n",
    "prior = Pmf(1, hypos)\n",
    "\n",
    "likelihood_heads = hypos\n",
    "likelihood_tails = 1 - hypos\n",
    "\n",
    "#likelihood options as dictionary\n",
    "likelihood = {\n",
    "    'H': likelihood_heads,\n",
    "    'T': likelihood_tails\n",
    "}\n",
    "\n",
    "#motivating example\n",
    "dataset = 'H' * 140 + 'T' * 110"
   ]
  },
  {
   "cell_type": "code",
   "execution_count": 34,
   "id": "9f6bf2b4-183e-4c3e-bcb3-93f4e063496e",
   "metadata": {},
   "outputs": [],
   "source": [
    "#update function\n",
    "def update_euro(pmf, dataset):\n",
    "    \"\"\"Update pmf with a given sequence of H and T.\"\"\"\n",
    "    for data in dataset:\n",
    "        pmf *= likelihood[data]\n",
    "\n",
    "    pmf.normalize()"
   ]
  },
  {
   "cell_type": "code",
   "execution_count": 35,
   "id": "d21a76d3-11bc-4edb-9c66-38f7fd4a6510",
   "metadata": {},
   "outputs": [
    {
     "data": {
      "text/plain": [
       "<AxesSubplot:>"
      ]
     },
     "execution_count": 35,
     "metadata": {},
     "output_type": "execute_result"
    },
    {
     "data": {
      "image/png": "[encoded data removed]",
      "text/plain": [
       "<Figure size 432x288 with 1 Axes>"
      ]
     },
     "metadata": {
      "needs_background": "light"
     },
     "output_type": "display_data"
    }
   ],
   "source": [
    "posterior = prior.copy()\n",
    "update_euro(posterior, dataset)\n",
    "posterior.plot(color='C2')"
   ]
  },
  {
   "cell_type": "code",
   "execution_count": 36,
   "id": "229defce-de9e-4077-aa36-4dfd3c4946ad",
   "metadata": {},
   "outputs": [
    {
     "data": {
      "text/plain": [
       "0.56"
      ]
     },
     "execution_count": 36,
     "metadata": {},
     "output_type": "execute_result"
    }
   ],
   "source": [
    "posterior.max_prob()"
   ]
  },
  {
   "cell_type": "markdown",
   "id": "96784605-6cd9-4697-950b-01991e78962c",
   "metadata": {},
   "source": [
    "Bayes shows that the value is relatively expected."
   ]
  },
  {
   "cell_type": "markdown",
   "id": "8cdd6928-dec1-48a1-8fd2-183df4cb5d1a",
   "metadata": {},
   "source": [
    "# Triangle prior\n",
    "\n",
    "In prior examples, we have been assuming a uniform distribution.  This may not be the best assumption.  "
   ]
  },
  {
   "cell_type": "code",
   "execution_count": 37,
   "id": "a6d4b4d7-5766-491e-979e-d00e37b47ed1",
   "metadata": {},
   "outputs": [
    {
     "data": {
      "text/plain": [
       "101"
      ]
     },
     "execution_count": 37,
     "metadata": {},
     "output_type": "execute_result"
    }
   ],
   "source": [
    "uniform = Pmf(1, hypos, name='uniform')\n",
    "uniform.normalize()"
   ]
  },
  {
   "cell_type": "markdown",
   "id": "da54cc0b-7223-4ac3-9f29-29467b9c0d18",
   "metadata": {},
   "source": [
    "May prefer a distribution with more weight near 0.5 and less at the extrema"
   ]
  },
  {
   "cell_type": "code",
   "execution_count": 44,
   "id": "4845653b-8d13-462f-b2b5-bf41807fdc80",
   "metadata": {},
   "outputs": [
    {
     "data": {
      "text/plain": [
       "2500"
      ]
     },
     "execution_count": 44,
     "metadata": {},
     "output_type": "execute_result"
    }
   ],
   "source": [
    "#0-50\n",
    "ramp_up = np.arange(50)\n",
    "\n",
    "#50-0\n",
    "ramp_down = np.arange(50, -1, -1)\n",
    "\n",
    "#join\n",
    "a = np.append(ramp_up, ramp_down)\n",
    "\n",
    "triangle = Pmf(a, hypos, name='triangle')\n",
    "triangle.normalize()\n"
   ]
  },
  {
   "cell_type": "code",
   "execution_count": 46,
   "id": "1de253f3-d06a-4c9c-b3ad-fc02aa3f3765",
   "metadata": {},
   "outputs": [
    {
     "data": {
      "text/plain": [
       "<AxesSubplot:>"
      ]
     },
     "execution_count": 46,
     "metadata": {},
     "output_type": "execute_result"
    },
    {
     "data": {
      "image/png": "[encoded data removed]",
      "text/plain": [
       "<Figure size 432x288 with 1 Axes>"
      ]
     },
     "metadata": {
      "needs_background": "light"
     },
     "output_type": "display_data"
    }
   ],
   "source": [
    "#Plot\n",
    "uniform.plot()\n",
    "triangle.plot()\n"
   ]
  },
  {
   "cell_type": "code",
   "execution_count": 47,
   "id": "e2e643f5-0ade-4234-a2a1-ea19dcd2c7b2",
   "metadata": {},
   "outputs": [],
   "source": [
    "#Update priors with data\n",
    "update_euro(uniform, dataset)\n",
    "update_euro(triangle, dataset)"
   ]
  },
  {
   "cell_type": "code",
   "execution_count": 48,
   "id": "2608c2bd-32ce-4f07-a077-091a1c8de911",
   "metadata": {},
   "outputs": [
    {
     "data": {
      "text/plain": [
       "<AxesSubplot:>"
      ]
     },
     "execution_count": 48,
     "metadata": {},
     "output_type": "execute_result"
    },
    {
     "data": {
      "image/png": "[encoded data removed]",
      "text/plain": [
       "<Figure size 432x288 with 1 Axes>"
      ]
     },
     "metadata": {
      "needs_background": "light"
     },
     "output_type": "display_data"
    }
   ],
   "source": [
    "#Plot posterior\n",
    "uniform.plot()\n",
    "triangle.plot()"
   ]
  },
  {
   "cell_type": "markdown",
   "id": "ddd06ee2-45ee-4302-9806-9caf23a13a87",
   "metadata": {},
   "source": [
    "Differences are hardly noticable after incoporating data.\n",
    "This is referred to as swamping out priors"
   ]
  },
  {
   "cell_type": "markdown",
   "id": "e1bf69eb-ec1d-40b0-9302-87fafcc68955",
   "metadata": {},
   "source": [
    "# The Binomial Likelihood Function¶\n",
    "\n",
    "More efficient to calculate the distribution at once rather than simulation. This can be done using the binomial distribution taken from scipy"
   ]
  },
  {
   "cell_type": "code",
   "execution_count": 49,
   "id": "66598fb3-2355-4acb-8a67-16200151d643",
   "metadata": {},
   "outputs": [],
   "source": [
    "from scipy.stats import binom\n",
    "\n",
    "def update_binomial(pmf, data):\n",
    "    \"\"\"Update pmf using the binomial distribution.\"\"\"\n",
    "    k, n = data\n",
    "    xs = pmf.qs\n",
    "    likelihood = binom.pmf(k, n, xs)\n",
    "    pmf *= likelihood\n",
    "    pmf.normalize()"
   ]
  },
  {
   "cell_type": "markdown",
   "id": "fb5ac065-38f7-489c-8642-f131f65b7cb1",
   "metadata": {},
   "source": [
    "Represent data as a tuple of k, n rather than a string"
   ]
  },
  {
   "cell_type": "code",
   "execution_count": 50,
   "id": "032cb165-1f8c-47cd-9df8-c74bd33a0263",
   "metadata": {},
   "outputs": [],
   "source": [
    "uniform2 = Pmf(1, hypos, name='uniform2')\n",
    "data = 140, 250\n",
    "update_binomial(uniform2, data)"
   ]
  },
  {
   "cell_type": "code",
   "execution_count": 51,
   "id": "cdd845bc-4c27-42b4-b68d-006c5567c351",
   "metadata": {},
   "outputs": [
    {
     "data": {
      "text/plain": [
       "True"
      ]
     },
     "execution_count": 51,
     "metadata": {},
     "output_type": "execute_result"
    }
   ],
   "source": [
    "#small difference from prior example due to rounding\n",
    "np.allclose(uniform, uniform2)"
   ]
  },
  {
   "cell_type": "markdown",
   "id": "75700b48-0b6d-45b7-a8b3-82c7b3798140",
   "metadata": {},
   "source": [
    "# Bayesian Statistics \n",
    "\n",
    "Comparison between Euro coin flipping problem and 101 bowls problem\n",
    "Bowl problem implies the prior while the Euro requires the investigator to make a subjective decision.\n",
    "The prior in the Euro problem is derived from what we believe about coins (that there is a random 50-50 shot, even though it's determined based on the distribution of metal in the coin, which isn't random). The subjectivity in the prior distingishes Baysian Statistics and Bayes Theorem. Bayes theorem is a mathmatical law, while doing Bayesian statistics has subjectivity cooked in.\n"
   ]
  },
  {
   "cell_type": "markdown",
   "id": "05abd426-c273-4409-94be-86d9b07ff5fa",
   "metadata": {},
   "source": [
    "# Exercies"
   ]
  },
  {
   "cell_type": "markdown",
   "id": "ec65c07b-5268-4c19-9b50-6bc77bbea19e",
   "metadata": {},
   "source": [
    "2. Exercise: Whenever you survey people about sensitive issues, you have to deal with social desirability bias, which is the tendency of people to adjust their answers to show themselves in the most positive light. One way to improve the accuracy of the results is randomized response.\n",
    "\n",
    "As an example, suppose you want to know how many people cheat on their taxes. If you ask them directly, it is likely that some of the cheaters will lie. You can get a more accurate estimate if you ask them indirectly, like this: Ask each person to flip a coin and, without revealing the outcome,\n",
    "\n",
    "If they get heads, they report YES.\n",
    "\n",
    "If they get tails, they honestly answer the question “Do you cheat on your taxes?”\n",
    "\n",
    "If someone says YES, we don’t know whether they actually cheat on their taxes; they might have flipped heads. Knowing this, people might be more willing to answer honestly.\n",
    "\n",
    "Suppose you survey 100 people this way and get 80 YESes and 20 NOs. Based on this data, what is the posterior distribution for the fraction of people who cheat on their taxes? What is the most likely quantity in the posterior distribution?"
   ]
  },
  {
   "cell_type": "code",
   "execution_count": null,
   "id": "cee4ecba-53b0-432e-8bb7-cb8013e57c13",
   "metadata": {},
   "outputs": [],
   "source": [
    "#build distribution\n",
    "hypos = np.linspace(0, 1, 101)\n",
    "#assume uniform prior (people are equally as likely to cheat on taxes as not cheat)\n",
    "prior = Pmf(1, hypos)\n",
    "\n",
    "#We know that if they flip heads they'll lie\n",
    "likelihood = {\n",
    "    'Y': 0.5 + hypos/2,\n",
    "    'N': (1-hypos)/2\n",
    "}"
   ]
  }
 ],
 "metadata": {
  "kernelspec": {
   "display_name": "Python 3 (ipykernel)",
   "language": "python",
   "name": "python3"
  },
  "language_info": {
   "codemirror_mode": {
    "name": "ipython",
    "version": 3
   },
   "file_extension": ".py",
   "mimetype": "text/x-python",
   "name": "python",
   "nbconvert_exporter": "python",
   "pygments_lexer": "ipython3",
   "version": "3.9.7"
  }
 },
 "nbformat": 4,
 "nbformat_minor": 5
}
