{
 "cells": [
  {
   "cell_type": "markdown",
   "id": "8c0d455f-0108-4d33-b2b3-a85874590743",
   "metadata": {},
   "source": [
    "# Bayes Theoerm\n",
    "\n",
    "Derived from the previous chapter\n",
    "P(A|B) = P(A) * P(B|A) / P(B)\n",
    "\n",
    "In that chapter, it wasn't too useful since we had a complete dataset, so it was just as easy to compute the left and right sides.\n",
    "\n",
    "### Example\n",
    "Two cookie jars (rather than urns)\n",
    "Bowl 1 contains 30 vanilla cookies and 10 chocolate cookies. [P(V|B1) = 3/4]\n",
    "\n",
    "Bowl 2 contains 20 vanilla cookies and 20 chocolate cookies. [P(V|B2) = 1/2]\n",
    "\n",
    "Take a cookie without looking and happen to pull a vanilla cookie. What is the probability that it came from Bowl 1?\n",
    "\n",
    "We want the conditional probability that the cookie is from bowl 1 given it's vanilla) P(B1|V)\n",
    "\n",
    "What we are given is P(V|B1) and P(V|B2), the probability of getting a cookie given which bowl it's from.\n",
    "\n",
    "From Bayes theorem\n",
    "\n",
    "P(B1|V) = P(B1) * P(V|B1) / P(V)\n",
    "-Where P(B1) is the prior belief of what bowl it came from (50-50, so 1/2)\n",
    "-P(V) is probability of taking a vanilla cookie from either bowl), can be dervived by total probability or counting raw data: P(B1) * P(V|B1) + P(B2) * P(V|B2) = 1/2 * 3/4 + 1/2 * 1/2 = 5/8\n",
    "\n",
    "P(B1|V) = (1/2 * 3/4) / (5/8) = 3/8 * 8/5 = 3/5\n",
    "\n",
    "\n"
   ]
  },
  {
   "cell_type": "markdown",
   "id": "10606fde-d7d1-4e5a-b1b6-0484663226d0",
   "metadata": {},
   "source": [
    "# Diachronic Bayes\n",
    "\n",
    "Another way of thinking about/using Bayes theorem. Given some hypothesis H and some data D.\n",
    "\n",
    "P(H|D) = P(H) * P(D|H) / P(D)\n",
    "\n",
    "Where\n",
    "P(H|D) is the probability of the hypothesis given the data (POSTIERIOR)\n",
    "P(H) is the propability of the hypothesis before seeing the data (PRIOR)\n",
    "P(D|H) is the probability of the data given the hypothesis (LIKELIHOOD)\n",
    "P(D) is the total probability of the data under any hypothesis\n",
    "\n",
    "Sometimes the prior can be calculated based on background info, othertimes it can be subjective\n",
    "Likelihood is usually easiest to calculate\n",
    "Total probability can be difficult to define, usually will construct a set of hypotheses that are mutually exclusive and exhaustive so that the SUM of these will yield the P(D) with the law of total probability\n",
    "\n",
    "The process of using a prior and data to compute a posterior probability is called a Bayesian update"
   ]
  },
  {
   "cell_type": "markdown",
   "id": "2f37a711-9d49-4339-bee0-f5e0fb22e32b",
   "metadata": {},
   "source": [
    "## Bayes Tables\n",
    "A convient way to record Bayesian updates"
   ]
  },
  {
   "cell_type": "code",
   "execution_count": 3,
   "id": "ad4d4f13-9ca1-44d3-b575-97dde7113f21",
   "metadata": {},
   "outputs": [
    {
     "data": {
      "text/html": [
       "<div>\n",
       "<style scoped>\n",
       "    .dataframe tbody tr th:only-of-type {\n",
       "        vertical-align: middle;\n",
       "    }\n",
       "\n",
       "    .dataframe tbody tr th {\n",
       "        vertical-align: top;\n",
       "    }\n",
       "\n",
       "    .dataframe thead th {\n",
       "        text-align: right;\n",
       "    }\n",
       "</style>\n",
       "<table border=\"1\" class=\"dataframe\">\n",
       "  <thead>\n",
       "    <tr style=\"text-align: right;\">\n",
       "      <th></th>\n",
       "      <th>prior</th>\n",
       "      <th>likelihood</th>\n",
       "    </tr>\n",
       "  </thead>\n",
       "  <tbody>\n",
       "    <tr>\n",
       "      <th>Bowl 1</th>\n",
       "      <td>0.5</td>\n",
       "      <td>0.75</td>\n",
       "    </tr>\n",
       "    <tr>\n",
       "      <th>Bowl 2</th>\n",
       "      <td>0.5</td>\n",
       "      <td>0.50</td>\n",
       "    </tr>\n",
       "  </tbody>\n",
       "</table>\n",
       "</div>"
      ],
      "text/plain": [
       "        prior  likelihood\n",
       "Bowl 1    0.5        0.75\n",
       "Bowl 2    0.5        0.50"
      ]
     },
     "execution_count": 3,
     "metadata": {},
     "output_type": "execute_result"
    }
   ],
   "source": [
    "import pandas as pd\n",
    "table = pd.DataFrame(index=['Bowl 1', 'Bowl 2'])\n",
    "table['prior'] = 1/2, 1/2\n",
    "table['likelihood'] = 3/4, 1/2\n",
    "table"
   ]
  },
  {
   "cell_type": "markdown",
   "id": "3062b5d1-4d46-4ab8-a004-11b427f58dc7",
   "metadata": {},
   "source": [
    "Next multiply prior and likelyhood (called unnorm) since they are the unnormalized posteriors (havent been divided by P(D)). P(D) is also called the normalizing constant"
   ]
  },
  {
   "cell_type": "code",
   "execution_count": 5,
   "id": "46522069-6e17-43cb-81c2-1c202e0f50c9",
   "metadata": {},
   "outputs": [
    {
     "data": {
      "text/html": [
       "<div>\n",
       "<style scoped>\n",
       "    .dataframe tbody tr th:only-of-type {\n",
       "        vertical-align: middle;\n",
       "    }\n",
       "\n",
       "    .dataframe tbody tr th {\n",
       "        vertical-align: top;\n",
       "    }\n",
       "\n",
       "    .dataframe thead th {\n",
       "        text-align: right;\n",
       "    }\n",
       "</style>\n",
       "<table border=\"1\" class=\"dataframe\">\n",
       "  <thead>\n",
       "    <tr style=\"text-align: right;\">\n",
       "      <th></th>\n",
       "      <th>prior</th>\n",
       "      <th>likelihood</th>\n",
       "      <th>unnorm</th>\n",
       "      <th>posterior</th>\n",
       "    </tr>\n",
       "  </thead>\n",
       "  <tbody>\n",
       "    <tr>\n",
       "      <th>Bowl 1</th>\n",
       "      <td>0.5</td>\n",
       "      <td>0.75</td>\n",
       "      <td>0.375</td>\n",
       "      <td>0.6</td>\n",
       "    </tr>\n",
       "    <tr>\n",
       "      <th>Bowl 2</th>\n",
       "      <td>0.5</td>\n",
       "      <td>0.50</td>\n",
       "      <td>0.250</td>\n",
       "      <td>0.4</td>\n",
       "    </tr>\n",
       "  </tbody>\n",
       "</table>\n",
       "</div>"
      ],
      "text/plain": [
       "        prior  likelihood  unnorm  posterior\n",
       "Bowl 1    0.5        0.75   0.375        0.6\n",
       "Bowl 2    0.5        0.50   0.250        0.4"
      ]
     },
     "execution_count": 5,
     "metadata": {},
     "output_type": "execute_result"
    }
   ],
   "source": [
    "table['unnorm'] = table['prior'] * table['likelihood']\n",
    "\n",
    "prob_data = table['unnorm'].sum()\n",
    "prob_data\n",
    "\n",
    "table['posterior'] = table['unnorm'] / prob_data\n",
    "table"
   ]
  },
  {
   "cell_type": "markdown",
   "id": "dc9f5856-adb5-498c-b438-d331bd8503b8",
   "metadata": {},
   "source": [
    "After seeing the cookie we drew, we have increased belief that it came from bowl 1"
   ]
  },
  {
   "cell_type": "markdown",
   "id": "314c4857-6c9f-4c23-942d-3b9ae4773cc0",
   "metadata": {},
   "source": [
    "## Dice problem\n",
    "Problem with more than 2 hypotheses \n",
    "Roll either 6, 8, or 12 sided die and got 1\n",
    "\n",
    "\n"
   ]
  },
  {
   "cell_type": "code",
   "execution_count": 6,
   "id": "e0374dbd-585c-473a-b31d-7478407ddbfa",
   "metadata": {},
   "outputs": [
    {
     "data": {
      "text/html": [
       "<div>\n",
       "<style scoped>\n",
       "    .dataframe tbody tr th:only-of-type {\n",
       "        vertical-align: middle;\n",
       "    }\n",
       "\n",
       "    .dataframe tbody tr th {\n",
       "        vertical-align: top;\n",
       "    }\n",
       "\n",
       "    .dataframe thead th {\n",
       "        text-align: right;\n",
       "    }\n",
       "</style>\n",
       "<table border=\"1\" class=\"dataframe\">\n",
       "  <thead>\n",
       "    <tr style=\"text-align: right;\">\n",
       "      <th></th>\n",
       "      <th>prior</th>\n",
       "      <th>likelihood</th>\n",
       "    </tr>\n",
       "  </thead>\n",
       "  <tbody>\n",
       "    <tr>\n",
       "      <th>6</th>\n",
       "      <td>1/3</td>\n",
       "      <td>1/6</td>\n",
       "    </tr>\n",
       "    <tr>\n",
       "      <th>8</th>\n",
       "      <td>1/3</td>\n",
       "      <td>1/8</td>\n",
       "    </tr>\n",
       "    <tr>\n",
       "      <th>12</th>\n",
       "      <td>1/3</td>\n",
       "      <td>1/12</td>\n",
       "    </tr>\n",
       "  </tbody>\n",
       "</table>\n",
       "</div>"
      ],
      "text/plain": [
       "   prior likelihood\n",
       "6    1/3        1/6\n",
       "8    1/3        1/8\n",
       "12   1/3       1/12"
      ]
     },
     "execution_count": 6,
     "metadata": {},
     "output_type": "execute_result"
    }
   ],
   "source": [
    "#build initial table\n",
    "#equal chance of any three dice, then likelihood of rolling 1 with each dice (1/sides)\n",
    "from fractions import Fraction\n",
    "table2 = pd.DataFrame(index=[6, 8, 12])\n",
    "\n",
    "table2['prior'] = Fraction(1, 3)\n",
    "table2['likelihood'] = Fraction(1, 6), Fraction(1, 8), Fraction(1, 12)\n",
    "table2"
   ]
  },
  {
   "cell_type": "code",
   "execution_count": 7,
   "id": "80e21946-6291-4d78-b99f-d2b245a48a11",
   "metadata": {},
   "outputs": [],
   "source": [
    "def update(table):\n",
    "    \"\"\"Compute the posterior probabilities.\"\"\"\n",
    "    table['unnorm'] = table['prior'] * table['likelihood']\n",
    "    prob_data = table['unnorm'].sum()\n",
    "    table['posterior'] = table['unnorm'] / prob_data\n",
    "    return prob_data"
   ]
  },
  {
   "cell_type": "code",
   "execution_count": 8,
   "id": "ed9c2659-d128-4cfc-b3f8-3229c8177e01",
   "metadata": {},
   "outputs": [
    {
     "data": {
      "text/html": [
       "<div>\n",
       "<style scoped>\n",
       "    .dataframe tbody tr th:only-of-type {\n",
       "        vertical-align: middle;\n",
       "    }\n",
       "\n",
       "    .dataframe tbody tr th {\n",
       "        vertical-align: top;\n",
       "    }\n",
       "\n",
       "    .dataframe thead th {\n",
       "        text-align: right;\n",
       "    }\n",
       "</style>\n",
       "<table border=\"1\" class=\"dataframe\">\n",
       "  <thead>\n",
       "    <tr style=\"text-align: right;\">\n",
       "      <th></th>\n",
       "      <th>prior</th>\n",
       "      <th>likelihood</th>\n",
       "      <th>unnorm</th>\n",
       "      <th>posterior</th>\n",
       "    </tr>\n",
       "  </thead>\n",
       "  <tbody>\n",
       "    <tr>\n",
       "      <th>6</th>\n",
       "      <td>1/3</td>\n",
       "      <td>1/6</td>\n",
       "      <td>1/18</td>\n",
       "      <td>4/9</td>\n",
       "    </tr>\n",
       "    <tr>\n",
       "      <th>8</th>\n",
       "      <td>1/3</td>\n",
       "      <td>1/8</td>\n",
       "      <td>1/24</td>\n",
       "      <td>1/3</td>\n",
       "    </tr>\n",
       "    <tr>\n",
       "      <th>12</th>\n",
       "      <td>1/3</td>\n",
       "      <td>1/12</td>\n",
       "      <td>1/36</td>\n",
       "      <td>2/9</td>\n",
       "    </tr>\n",
       "  </tbody>\n",
       "</table>\n",
       "</div>"
      ],
      "text/plain": [
       "   prior likelihood unnorm posterior\n",
       "6    1/3        1/6   1/18       4/9\n",
       "8    1/3        1/8   1/24       1/3\n",
       "12   1/3       1/12   1/36       2/9"
      ]
     },
     "execution_count": 8,
     "metadata": {},
     "output_type": "execute_result"
    }
   ],
   "source": [
    "prob_data = update(table2)\n",
    "table2"
   ]
  },
  {
   "cell_type": "markdown",
   "id": "5f8bab13-df87-4677-9a0a-3e2e1d2d1e21",
   "metadata": {},
   "source": [
    "## Monty Hall Problem\n",
    "\n",
    "Based on a gameshow where person picks between 3 doors. After initial selection the host will open one empty door and the contestant is allowed to pick a new door. Question is whether it's better to switch or makes no difference.\n",
    "\n",
    "It's better to switch (odds are 2/3 vs 1/3)\n",
    "\n",
    "Setup problem:"
   ]
  },
  {
   "cell_type": "code",
   "execution_count": 9,
   "id": "17816279-d056-4415-bafa-98a2d141bd22",
   "metadata": {},
   "outputs": [
    {
     "data": {
      "text/html": [
       "<div>\n",
       "<style scoped>\n",
       "    .dataframe tbody tr th:only-of-type {\n",
       "        vertical-align: middle;\n",
       "    }\n",
       "\n",
       "    .dataframe tbody tr th {\n",
       "        vertical-align: top;\n",
       "    }\n",
       "\n",
       "    .dataframe thead th {\n",
       "        text-align: right;\n",
       "    }\n",
       "</style>\n",
       "<table border=\"1\" class=\"dataframe\">\n",
       "  <thead>\n",
       "    <tr style=\"text-align: right;\">\n",
       "      <th></th>\n",
       "      <th>prior</th>\n",
       "    </tr>\n",
       "  </thead>\n",
       "  <tbody>\n",
       "    <tr>\n",
       "      <th>Door 1</th>\n",
       "      <td>1/3</td>\n",
       "    </tr>\n",
       "    <tr>\n",
       "      <th>Door 2</th>\n",
       "      <td>1/3</td>\n",
       "    </tr>\n",
       "    <tr>\n",
       "      <th>Door 3</th>\n",
       "      <td>1/3</td>\n",
       "    </tr>\n",
       "  </tbody>\n",
       "</table>\n",
       "</div>"
      ],
      "text/plain": [
       "       prior\n",
       "Door 1   1/3\n",
       "Door 2   1/3\n",
       "Door 3   1/3"
      ]
     },
     "execution_count": 9,
     "metadata": {},
     "output_type": "execute_result"
    }
   ],
   "source": [
    "#Intial probability\n",
    "table3 = pd.DataFrame(index=['Door 1', 'Door 2', 'Door 3'])\n",
    "table3['prior'] = Fraction(1, 3)\n",
    "table3"
   ]
  },
  {
   "cell_type": "code",
   "execution_count": 12,
   "id": "9aa8f749-7153-4588-a9e5-6bda6b00218a",
   "metadata": {},
   "outputs": [
    {
     "data": {
      "text/html": [
       "<div>\n",
       "<style scoped>\n",
       "    .dataframe tbody tr th:only-of-type {\n",
       "        vertical-align: middle;\n",
       "    }\n",
       "\n",
       "    .dataframe tbody tr th {\n",
       "        vertical-align: top;\n",
       "    }\n",
       "\n",
       "    .dataframe thead th {\n",
       "        text-align: right;\n",
       "    }\n",
       "</style>\n",
       "<table border=\"1\" class=\"dataframe\">\n",
       "  <thead>\n",
       "    <tr style=\"text-align: right;\">\n",
       "      <th></th>\n",
       "      <th>prior</th>\n",
       "      <th>likelihood</th>\n",
       "      <th>unnorm</th>\n",
       "      <th>posterior</th>\n",
       "    </tr>\n",
       "  </thead>\n",
       "  <tbody>\n",
       "    <tr>\n",
       "      <th>Door 1</th>\n",
       "      <td>1/3</td>\n",
       "      <td>1/2</td>\n",
       "      <td>1/6</td>\n",
       "      <td>1/3</td>\n",
       "    </tr>\n",
       "    <tr>\n",
       "      <th>Door 2</th>\n",
       "      <td>1/3</td>\n",
       "      <td>1</td>\n",
       "      <td>1/3</td>\n",
       "      <td>2/3</td>\n",
       "    </tr>\n",
       "    <tr>\n",
       "      <th>Door 3</th>\n",
       "      <td>1/3</td>\n",
       "      <td>0</td>\n",
       "      <td>0</td>\n",
       "      <td>0</td>\n",
       "    </tr>\n",
       "  </tbody>\n",
       "</table>\n",
       "</div>"
      ],
      "text/plain": [
       "       prior likelihood unnorm posterior\n",
       "Door 1   1/3        1/2    1/6       1/3\n",
       "Door 2   1/3          1    1/3       2/3\n",
       "Door 3   1/3          0      0         0"
      ]
     },
     "execution_count": 12,
     "metadata": {},
     "output_type": "execute_result"
    }
   ],
   "source": [
    "#New data added\n",
    "table3['likelihood'] = Fraction(1, 2), 1, 0\n",
    "update(table3)\n",
    "table3"
   ]
  },
  {
   "cell_type": "markdown",
   "id": "76a66896-3d10-42f0-9144-ec22ada5d268",
   "metadata": {},
   "source": [
    "# Exercises\n",
    "Exercise 1: Suppose you have two coins in a box. One is a normal coin with heads on one side and tails on the other, and one is a trick coin with heads on both sides. You choose a coin at random and see that one of the sides is heads. What is the probability that you chose the trick coin?"
   ]
  },
  {
   "cell_type": "code",
   "execution_count": 16,
   "id": "54e91b84-b108-49c4-8d8d-249551d94950",
   "metadata": {},
   "outputs": [
    {
     "data": {
      "text/html": [
       "<div>\n",
       "<style scoped>\n",
       "    .dataframe tbody tr th:only-of-type {\n",
       "        vertical-align: middle;\n",
       "    }\n",
       "\n",
       "    .dataframe tbody tr th {\n",
       "        vertical-align: top;\n",
       "    }\n",
       "\n",
       "    .dataframe thead th {\n",
       "        text-align: right;\n",
       "    }\n",
       "</style>\n",
       "<table border=\"1\" class=\"dataframe\">\n",
       "  <thead>\n",
       "    <tr style=\"text-align: right;\">\n",
       "      <th></th>\n",
       "      <th>prior</th>\n",
       "    </tr>\n",
       "  </thead>\n",
       "  <tbody>\n",
       "    <tr>\n",
       "      <th>honest</th>\n",
       "      <td>1/2</td>\n",
       "    </tr>\n",
       "    <tr>\n",
       "      <th>trick</th>\n",
       "      <td>1/2</td>\n",
       "    </tr>\n",
       "  </tbody>\n",
       "</table>\n",
       "</div>"
      ],
      "text/plain": [
       "       prior\n",
       "honest   1/2\n",
       "trick    1/2"
      ]
     },
     "execution_count": 16,
     "metadata": {},
     "output_type": "execute_result"
    }
   ],
   "source": [
    "table4 = pd.DataFrame(index=['honest', 'trick'])\n",
    "table4['prior'] = Fraction(1, 2)\n",
    "table4"
   ]
  },
  {
   "cell_type": "code",
   "execution_count": 17,
   "id": "cb370239-dd22-44cc-8de9-f0303475be45",
   "metadata": {},
   "outputs": [
    {
     "data": {
      "text/html": [
       "<div>\n",
       "<style scoped>\n",
       "    .dataframe tbody tr th:only-of-type {\n",
       "        vertical-align: middle;\n",
       "    }\n",
       "\n",
       "    .dataframe tbody tr th {\n",
       "        vertical-align: top;\n",
       "    }\n",
       "\n",
       "    .dataframe thead th {\n",
       "        text-align: right;\n",
       "    }\n",
       "</style>\n",
       "<table border=\"1\" class=\"dataframe\">\n",
       "  <thead>\n",
       "    <tr style=\"text-align: right;\">\n",
       "      <th></th>\n",
       "      <th>prior</th>\n",
       "      <th>likelihood</th>\n",
       "      <th>unnorm</th>\n",
       "      <th>posterior</th>\n",
       "    </tr>\n",
       "  </thead>\n",
       "  <tbody>\n",
       "    <tr>\n",
       "      <th>honest</th>\n",
       "      <td>1/2</td>\n",
       "      <td>1/2</td>\n",
       "      <td>1/4</td>\n",
       "      <td>1/3</td>\n",
       "    </tr>\n",
       "    <tr>\n",
       "      <th>trick</th>\n",
       "      <td>1/2</td>\n",
       "      <td>1</td>\n",
       "      <td>1/2</td>\n",
       "      <td>2/3</td>\n",
       "    </tr>\n",
       "  </tbody>\n",
       "</table>\n",
       "</div>"
      ],
      "text/plain": [
       "       prior likelihood unnorm posterior\n",
       "honest   1/2        1/2    1/4       1/3\n",
       "trick    1/2          1    1/2       2/3"
      ]
     },
     "execution_count": 17,
     "metadata": {},
     "output_type": "execute_result"
    }
   ],
   "source": [
    "#update with likelihood\n",
    "table4['likelihood'] = Fraction(1, 2), 1\n",
    "update(table4)\n",
    "table4"
   ]
  },
  {
   "cell_type": "markdown",
   "id": "91b97950-8865-4a2f-8886-8b3fa32e5674",
   "metadata": {},
   "source": [
    "Exercise 2: Suppose you meet someone and learn that they have two children. You ask if either child is a girl and they say yes. What is the probability that both children are girls?"
   ]
  },
  {
   "cell_type": "code",
   "execution_count": 18,
   "id": "de9cfdae-375f-49e3-bf68-064189e896a0",
   "metadata": {},
   "outputs": [
    {
     "data": {
      "text/html": [
       "<div>\n",
       "<style scoped>\n",
       "    .dataframe tbody tr th:only-of-type {\n",
       "        vertical-align: middle;\n",
       "    }\n",
       "\n",
       "    .dataframe tbody tr th {\n",
       "        vertical-align: top;\n",
       "    }\n",
       "\n",
       "    .dataframe thead th {\n",
       "        text-align: right;\n",
       "    }\n",
       "</style>\n",
       "<table border=\"1\" class=\"dataframe\">\n",
       "  <thead>\n",
       "    <tr style=\"text-align: right;\">\n",
       "      <th></th>\n",
       "      <th>prior</th>\n",
       "    </tr>\n",
       "  </thead>\n",
       "  <tbody>\n",
       "    <tr>\n",
       "      <th>Girl-Girl</th>\n",
       "      <td>1/4</td>\n",
       "    </tr>\n",
       "    <tr>\n",
       "      <th>Girl-Boy</th>\n",
       "      <td>1/4</td>\n",
       "    </tr>\n",
       "    <tr>\n",
       "      <th>Boy-Girl</th>\n",
       "      <td>1/4</td>\n",
       "    </tr>\n",
       "    <tr>\n",
       "      <th>Boy-Boy</th>\n",
       "      <td>1/4</td>\n",
       "    </tr>\n",
       "  </tbody>\n",
       "</table>\n",
       "</div>"
      ],
      "text/plain": [
       "          prior\n",
       "Girl-Girl   1/4\n",
       "Girl-Boy    1/4\n",
       "Boy-Girl    1/4\n",
       "Boy-Boy     1/4"
      ]
     },
     "execution_count": 18,
     "metadata": {},
     "output_type": "execute_result"
    }
   ],
   "source": [
    "table5 = pd.DataFrame(index=['Girl-Girl', 'Girl-Boy', 'Boy-Girl', 'Boy-Boy'])\n",
    "table5['prior'] = Fraction(1, 4)\n",
    "table5"
   ]
  },
  {
   "cell_type": "code",
   "execution_count": 21,
   "id": "de63aaa9-ab7c-4e18-8945-8eea207c0238",
   "metadata": {},
   "outputs": [
    {
     "data": {
      "text/html": [
       "<div>\n",
       "<style scoped>\n",
       "    .dataframe tbody tr th:only-of-type {\n",
       "        vertical-align: middle;\n",
       "    }\n",
       "\n",
       "    .dataframe tbody tr th {\n",
       "        vertical-align: top;\n",
       "    }\n",
       "\n",
       "    .dataframe thead th {\n",
       "        text-align: right;\n",
       "    }\n",
       "</style>\n",
       "<table border=\"1\" class=\"dataframe\">\n",
       "  <thead>\n",
       "    <tr style=\"text-align: right;\">\n",
       "      <th></th>\n",
       "      <th>prior</th>\n",
       "      <th>likelihood</th>\n",
       "      <th>unnorm</th>\n",
       "      <th>posterior</th>\n",
       "    </tr>\n",
       "  </thead>\n",
       "  <tbody>\n",
       "    <tr>\n",
       "      <th>Girl-Girl</th>\n",
       "      <td>1/4</td>\n",
       "      <td>1</td>\n",
       "      <td>1/4</td>\n",
       "      <td>1/3</td>\n",
       "    </tr>\n",
       "    <tr>\n",
       "      <th>Girl-Boy</th>\n",
       "      <td>1/4</td>\n",
       "      <td>1</td>\n",
       "      <td>1/4</td>\n",
       "      <td>1/3</td>\n",
       "    </tr>\n",
       "    <tr>\n",
       "      <th>Boy-Girl</th>\n",
       "      <td>1/4</td>\n",
       "      <td>1</td>\n",
       "      <td>1/4</td>\n",
       "      <td>1/3</td>\n",
       "    </tr>\n",
       "    <tr>\n",
       "      <th>Boy-Boy</th>\n",
       "      <td>1/4</td>\n",
       "      <td>0</td>\n",
       "      <td>0</td>\n",
       "      <td>0</td>\n",
       "    </tr>\n",
       "  </tbody>\n",
       "</table>\n",
       "</div>"
      ],
      "text/plain": [
       "          prior  likelihood unnorm posterior\n",
       "Girl-Girl   1/4           1    1/4       1/3\n",
       "Girl-Boy    1/4           1    1/4       1/3\n",
       "Boy-Girl    1/4           1    1/4       1/3\n",
       "Boy-Boy     1/4           0      0         0"
      ]
     },
     "execution_count": 21,
     "metadata": {},
     "output_type": "execute_result"
    }
   ],
   "source": [
    "#update with likelihood\n",
    "table5['likelihood'] = 1, 1, 1, 0\n",
    "update(table5)\n",
    "table5"
   ]
  },
  {
   "cell_type": "code",
   "execution_count": null,
   "id": "e9747954-217d-42bd-a6b9-83a85ec40376",
   "metadata": {},
   "outputs": [],
   "source": []
  },
  {
   "cell_type": "code",
   "execution_count": null,
   "id": "055b8284-5a00-4606-b6f8-4ec39d90377a",
   "metadata": {},
   "outputs": [],
   "source": []
  }
 ],
 "metadata": {
  "kernelspec": {
   "display_name": "Python 3 (ipykernel)",
   "language": "python",
   "name": "python3"
  },
  "language_info": {
   "codemirror_mode": {
    "name": "ipython",
    "version": 3
   },
   "file_extension": ".py",
   "mimetype": "text/x-python",
   "name": "python",
   "nbconvert_exporter": "python",
   "pygments_lexer": "ipython3",
   "version": "3.9.7"
  }
 },
 "nbformat": 4,
 "nbformat_minor": 5
}
