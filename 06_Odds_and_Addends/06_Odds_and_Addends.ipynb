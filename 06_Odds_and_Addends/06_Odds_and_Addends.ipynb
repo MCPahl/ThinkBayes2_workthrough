{
 "cells": [
  {
   "cell_type": "markdown",
   "id": "6eada8c6-4b62-448f-ae9f-0cf405287950",
   "metadata": {},
   "source": [
    "# Chapter 6 Odds and Addends"
   ]
  },
  {
   "cell_type": "markdown",
   "id": "ba7d7984-eedd-4d88-a1da-3be5f2aa3ea9",
   "metadata": {},
   "source": [
    "Using Bayes rule to calculate odds and represent certainty, which can be another way to quantify evidence\n",
    "\n",
    "### Odds\n",
    "Probabilities are represented as a value between 0 and 1, however there are other ways to represent chance. Odds in favor is a way to represent the probability as a ratio of odds that it will happen vs odds it will not. "
   ]
  },
  {
   "cell_type": "code",
   "execution_count": 1,
   "id": "0e696042-96c9-45d3-b34c-f229f6b8a952",
   "metadata": {},
   "outputs": [],
   "source": [
    "def odds(p): \n",
    "    return p / (1 - p)"
   ]
  },
  {
   "cell_type": "markdown",
   "id": "da536a51-c066-415d-a547-69b6a2d0f78e",
   "metadata": {},
   "source": [
    "For example, if a team has a 75% chance to win a game, another way to describe it is the odds are 3 to 1."
   ]
  },
  {
   "cell_type": "code",
   "execution_count": 2,
   "id": "25228853-ad5b-4cb5-97eb-7499112b549b",
   "metadata": {},
   "outputs": [
    {
     "data": {
      "text/plain": [
       "3.0"
      ]
     },
     "execution_count": 2,
     "metadata": {},
     "output_type": "execute_result"
    }
   ],
   "source": [
    "odds(0.75)"
   ]
  },
  {
   "cell_type": "markdown",
   "id": "02923478-15a3-408c-b1b3-3da486326dc2",
   "metadata": {},
   "source": [
    "With low odds, its more common to report odds against, the chance of the event not happening.  eg. If something has a 10% chance of happening. Say odds against are 9 to 1, rather than odds for are 1 to 9."
   ]
  },
  {
   "cell_type": "markdown",
   "id": "f63dddab-9a22-440b-8497-fcff24fc572c",
   "metadata": {},
   "source": [
    "Odds can also be converted back into probabilities."
   ]
  },
  {
   "cell_type": "code",
   "execution_count": 5,
   "id": "db38d0b9-a372-4285-ab81-7b0779fd5fdc",
   "metadata": {},
   "outputs": [],
   "source": [
    "def prob(o):\n",
    "    return o / (o+1)\n",
    "\n",
    "def prob2(yes, no):\n",
    "    return yes / (yes + no)"
   ]
  },
  {
   "cell_type": "code",
   "execution_count": 4,
   "id": "b84e9c1c-1980-43ea-a706-17d20c4eb791",
   "metadata": {},
   "outputs": [
    {
     "data": {
      "text/plain": [
       "0.6"
      ]
     },
     "execution_count": 4,
     "metadata": {},
     "output_type": "execute_result"
    }
   ],
   "source": [
    "prob(3/2)"
   ]
  },
  {
   "cell_type": "code",
   "execution_count": 6,
   "id": "c70bb981-2a74-425f-bd9d-9b292737ad8f",
   "metadata": {},
   "outputs": [
    {
     "data": {
      "text/plain": [
       "0.6"
      ]
     },
     "execution_count": 6,
     "metadata": {},
     "output_type": "execute_result"
    }
   ],
   "source": [
    "prob2(3, 2)"
   ]
  },
  {
   "cell_type": "markdown",
   "id": "1167a79f-2137-4ad7-95c9-aae125f2a56b",
   "metadata": {},
   "source": [
    "These can be interconverted. Some calculations are easier with odds/log odds compared to probabilities."
   ]
  },
  {
   "cell_type": "markdown",
   "id": "12675304-de73-4b29-aabe-b5ad997e1fc9",
   "metadata": {},
   "source": [
    "# Bayes Rule\n",
    "Previously worked with Bayes theorem in probability form, can also represent with odds\n",
    "\n",
    "Probability form of Bayes\n",
    "P(H|D) = ( P(H)P(D|H) ) / P(D)\n",
    "\n",
    "Odds form of bayes\n",
    "odds(A|D) = odds(A) * P(D|A)/P(D|B)\n",
    "\n",
    "Where odds(A) is the odds in favor of A.\n",
    "\n",
    "To simplify, the prior odds can be updated by multiplying by the likelihood ratio"
   ]
  },
  {
   "cell_type": "code",
   "execution_count": 7,
   "id": "6c2e2bb2-45d7-4dc4-9b03-d055991cf3f4",
   "metadata": {},
   "outputs": [
    {
     "data": {
      "text/plain": [
       "0.6"
      ]
     },
     "execution_count": 7,
     "metadata": {},
     "output_type": "execute_result"
    }
   ],
   "source": [
    "#cookie problem with odds\n",
    "prior_odds = 1\n",
    "likelihood_ratio = (3/4) / (1/2)\n",
    "post_odds = prior_odds * likelihood_ratio\n",
    "post_odds\n",
    "post_prob = prob(post_odds)\n",
    "post_prob"
   ]
  },
  {
   "cell_type": "code",
   "execution_count": 8,
   "id": "0ec4cac7-55a1-493c-b56e-7f6da1e47be9",
   "metadata": {},
   "outputs": [
    {
     "data": {
      "text/plain": [
       "0.75"
      ]
     },
     "execution_count": 8,
     "metadata": {},
     "output_type": "execute_result"
    }
   ],
   "source": [
    "#update after drawing another chocolate cookie\n",
    "likelihood_ratio = (1/4) / (1/2)\n",
    "post_odds *= likelihood_ratio\n",
    "post_odds"
   ]
  },
  {
   "cell_type": "markdown",
   "id": "0f316e86-978f-4f71-87a5-7eeac17ad691",
   "metadata": {},
   "source": [
    "## Oliver's blood\n",
    "> Two people have left traces of their own blood at the scene of a crime. A suspect, Oliver, is tested and found to have type ‘O’ blood. The blood groups of the two traces are found to be of type ‘O’ (a common type in the local population, having frequency 60%) and of type ‘AB’ (a rare type, with frequency 1%). Do these data give evidence in favor of the proposition that Oliver was one of the people whol left blood at the scene."
   ]
  },
  {
   "cell_type": "markdown",
   "id": "63e890e0-5527-4c32-977c-4a7f3ec48edb",
   "metadata": {},
   "source": [
    "Given Bayes' Rule\n",
    ">odds(A|D) = odds(A) * P(D|A)/P(D|B)\n",
    "\n",
    "then dividing by odds(A)\n",
    "\n",
    ">odds(A|D)/odds(A) = P(D|A)/P(D|B)\n",
    "\n",
    "The term on the right is called the Bayes factor\n",
    "If the bayes factor > 1 then odds are more likely under A given D, so odds go up.  <1 odds go down, 1 = exactly the same.\n"
   ]
  },
  {
   "cell_type": "markdown",
   "id": "95605a78-6b5d-44ee-9259-be2bc2606fb1",
   "metadata": {},
   "source": [
    "For this problem, if Oliver left blood at the scene, he accounts for the O blood, then some random AB person left their blood at the scene (scenario 1).  If oliver didn't leave blood at the scene, then we have two people to account for, some random O person and the random AB person (scenario 2).\n",
    "\n",
    "Two possible ways\n",
    "Random O person leaves blood first, then random AB second, or vice versa.\n",
    "\n",
    "So need to multiply by two to account for both ways.\n"
   ]
  },
  {
   "cell_type": "code",
   "execution_count": 10,
   "id": "48341052-7654-4d58-a0d9-935fc7a7987d",
   "metadata": {},
   "outputs": [
    {
     "data": {
      "text/plain": [
       "0.8333333333333334"
      ]
     },
     "execution_count": 10,
     "metadata": {},
     "output_type": "execute_result"
    }
   ],
   "source": [
    "like1 = 0.01\n",
    "like2 = 2 * 0.6 * 0.01\n",
    "likelihood_ratio = like1 / like2\n",
    "likelihood_ratio"
   ]
  },
  {
   "cell_type": "code",
   "execution_count": 11,
   "id": "7cfaf9f3-28da-4e1d-9c85-bd3b32b33082",
   "metadata": {},
   "outputs": [
    {
     "data": {
      "text/plain": [
       "0.45454545454545453"
      ]
     },
     "execution_count": 11,
     "metadata": {},
     "output_type": "execute_result"
    }
   ],
   "source": [
    "#less likely that Oliver left blood at the scene than two random people but\n",
    "post_odds = 1 * like1 / like2\n",
    "prob(post_odds)\n",
    "#Still a 45% chance."
   ]
  },
  {
   "cell_type": "markdown",
   "id": "37c28f22-a1e2-433f-aeff-89e71db4e9f3",
   "metadata": {},
   "source": [
    "# Addends\n",
    "Distributions of sums or other operations\n",
    "\n",
    "Example: What is the probabily distribution of two dice"
   ]
  },
  {
   "cell_type": "code",
   "execution_count": 12,
   "id": "ff317ca3-7666-4f6d-984a-1da3c5bf1282",
   "metadata": {},
   "outputs": [
    {
     "data": {
      "image/png": "[encoded data removed]",
      "text/plain": [
       "<Figure size 432x288 with 1 Axes>"
      ]
     },
     "metadata": {
      "needs_background": "light"
     },
     "output_type": "display_data"
    }
   ],
   "source": [
    "import numpy as np\n",
    "from empiricaldist import Pmf\n",
    "\n",
    "#function for rolling 1 die\n",
    "def make_die(sides):\n",
    "    outcomes = np.arange(1, sides+1)\n",
    "    die = Pmf(1/sides, outcomes)\n",
    "    return die\n",
    "\n",
    "#roll 6 side\n",
    "die = make_die(6)\n",
    "\n",
    "#Plot\n",
    "die.bar(alpha=0.4)"
   ]
  },
  {
   "cell_type": "markdown",
   "id": "01a6a1e6-7eb1-46c7-bbc2-42b7cf0fb9d9",
   "metadata": {},
   "source": [
    "Rolling two die has 11 possibilities (2-12), but the results are not uniformally distributed.  Each combo:"
   ]
  },
  {
   "cell_type": "code",
   "execution_count": 16,
   "id": "1852b681-7bc4-4015-9bb5-d5d09c228ec2",
   "metadata": {},
   "outputs": [
    {
     "data": {
      "image/png": "[encoded data removed]",
      "text/plain": [
       "<Figure size 432x288 with 1 Axes>"
      ]
     },
     "metadata": {
      "needs_background": "light"
     },
     "output_type": "display_data"
    }
   ],
   "source": [
    "def add_dist(pmf1, pmf2):\n",
    "    \"\"\"Compute the distribution of a sum.\"\"\"\n",
    "    #initialize\n",
    "    res = Pmf()\n",
    "    #loop through two objcts\n",
    "    for q1, p1 in pmf1.items():\n",
    "        for q2, p2 in pmf2.items():\n",
    "            q = q1 + q2\n",
    "            p = p1 * p2\n",
    "            res[q] = res(q) + p\n",
    "    return res\n",
    "\n",
    "double_die = add_dist(die, die)\n",
    "double_die.bar(alpha=0.4)"
   ]
  },
  {
   "cell_type": "code",
   "execution_count": 18,
   "id": "9feb3f3f-1e27-4467-bc47-90ac0decd9b4",
   "metadata": {},
   "outputs": [
    {
     "data": {
      "image/png": "[encoded data removed]",
      "text/plain": [
       "<Figure size 432x288 with 1 Axes>"
      ]
     },
     "metadata": {
      "needs_background": "light"
     },
     "output_type": "display_data"
    }
   ],
   "source": [
    "#Pmf has a built in function\n",
    "twice = Pmf.add_dist(die, die)\n",
    "twice.bar(color='C1', alpha=0.5)"
   ]
  },
  {
   "cell_type": "code",
   "execution_count": 19,
   "id": "c6546e65-ce02-4415-9c19-f0df414c2ed8",
   "metadata": {},
   "outputs": [
    {
     "data": {
      "text/plain": [
       "([<matplotlib.axis.XTick at 0x7fde420ab640>,\n",
       "  <matplotlib.axis.XTick at 0x7fde420ab610>,\n",
       "  <matplotlib.axis.XTick at 0x7fde420d5dc0>,\n",
       "  <matplotlib.axis.XTick at 0x7fde420e65e0>,\n",
       "  <matplotlib.axis.XTick at 0x7fde420e6d30>,\n",
       "  <matplotlib.axis.XTick at 0x7fde420f24c0>,\n",
       "  <matplotlib.axis.XTick at 0x7fde420f2c10>],\n",
       " [Text(0, 0, ''),\n",
       "  Text(0, 0, ''),\n",
       "  Text(0, 0, ''),\n",
       "  Text(0, 0, ''),\n",
       "  Text(0, 0, ''),\n",
       "  Text(0, 0, ''),\n",
       "  Text(0, 0, '')])"
      ]
     },
     "execution_count": 19,
     "metadata": {},
     "output_type": "execute_result"
    },
    {
     "data": {
      "image/png": "[encoded data removed]",
      "text/plain": [
       "<Figure size 432x288 with 1 Axes>"
      ]
     },
     "metadata": {
      "needs_background": "light"
     },
     "output_type": "display_data"
    }
   ],
   "source": [
    "#use a sequence of Pmf objects\n",
    "import matplotlib.pyplot as plt\n",
    "\n",
    "def add_dist_seq(seq):\n",
    "    \"\"\"Compute Pmf of the sum of values from seq.\"\"\"\n",
    "    total = seq[0]\n",
    "    for other in seq[1:]:\n",
    "        total = total.add_dist(other)\n",
    "    return total\n",
    "\n",
    "dice = [die] * 3\n",
    "thrice = add_dist_seq(dice)\n",
    "\n",
    "\n",
    "die.plot(label='once')\n",
    "twice.plot(label='twice', ls='--')\n",
    "thrice.plot(label='thrice', ls=':')\n",
    "\n",
    "plt.xticks([0,3,6,9,12,15,18])"
   ]
  },
  {
   "cell_type": "markdown",
   "id": "4f097f03-80fe-4238-b2f5-78692ba6f309",
   "metadata": {},
   "source": [
    "Demonstrates the central limit theorem (sum more random events begins converge to bell shape curve"
   ]
  },
  {
   "cell_type": "markdown",
   "id": "ef573b9a-d13d-4ba5-aaa3-c1f1d42a7674",
   "metadata": {},
   "source": [
    "## Gluten Sensitivity example\n",
    "2015 paper studying gluten sensitivity in non-celiac patients by determing if gluten was present in flour (blinded).\n",
    "\n",
    "35 subjects 12 correct, 17 wrong, 6 didn't distingish.  Authors concluded 1/3 of people able to detect gluten.  Is this just due to random chance/them guessing?\n",
    "\n",
    "We can use Baye's theorem to answer the question, but need to set prior assumptions for the model.\n",
    "\n",
    "- People sensitive to gluten have a 95% chance of correctly identifying gluten\n",
    "- People insensitive to gluten have a 40% chance of correctly identifying gluten by chance (60% of being wrong or choosing to fail to distingish).\n",
    "\n",
    "> Forward problem: Compute a distribution assuming we know how many subjects are sensitive.\n",
    "> Reverse problem: Using the likelihood of the data, compute posterior of sensitive subjects.\n",
    "\n",
    "### Forward problem\n",
    "\n",
    "Assume 10 of 35 are sensitive to gluten\n"
   ]
  },
  {
   "cell_type": "code",
   "execution_count": 20,
   "id": "02cc390d-c3ec-47dd-9fc2-5938d01f550e",
   "metadata": {},
   "outputs": [],
   "source": [
    "n = 35\n",
    "n_sens = 10\n",
    "n_insens = n - n_sens"
   ]
  },
  {
   "cell_type": "code",
   "execution_count": 23,
   "id": "99adeb99-4670-44cc-9aac-58cd90e8c7f4",
   "metadata": {},
   "outputs": [],
   "source": [
    "#Each senstivtive subject has a 95% chance of identifying gluten flour, so the number of correct identifications should follow a binomial distribution (each identification does not influence the others, distribution is additive).\n",
    "from scipy.stats import binom\n",
    "def make_binomial(n, p):\n",
    "    \"\"\"Make a binomial Pmf.\"\"\"\n",
    "    ks = np.arange(n+1)\n",
    "    ps = binom.pmf(ks, n, p)\n",
    "    return Pmf(ps, ks)\n",
    "\n",
    "dist_sens = make_binomial(n_sens, 0.95)\n",
    "dist_insens = make_binomial(n_insens, 0.4)"
   ]
  },
  {
   "cell_type": "code",
   "execution_count": 25,
   "id": "e6cac18e-5a89-4ac0-a597-5dfe8265cb00",
   "metadata": {},
   "outputs": [
    {
     "data": {
      "text/plain": [
       "<AxesSubplot:>"
      ]
     },
     "execution_count": 25,
     "metadata": {},
     "output_type": "execute_result"
    },
    {
     "data": {
      "image/png": "[encoded data removed]",
      "text/plain": [
       "<Figure size 432x288 with 1 Axes>"
      ]
     },
     "metadata": {
      "needs_background": "light"
     },
     "output_type": "display_data"
    }
   ],
   "source": [
    "#Add two distributions together to get total result\n",
    "dist_total = Pmf.add_dist(dist_sens, dist_insens)\n",
    "\n",
    "#Plot\n",
    "dist_sens.plot(label='sensitive', ls=':')\n",
    "dist_insens.plot(label='insensitive', ls='--')\n",
    "dist_total.plot(label='total')"
   ]
  },
  {
   "cell_type": "markdown",
   "id": "168f4168-487b-4c4e-869c-4cd3bb0321f9",
   "metadata": {},
   "source": [
    "If 10-25 gluten sensitive-insensitive ratio were true, we'd expect 20 correct interactions in total.  With 10 people insensitive to gluten guessing.  \n",
    "\n",
    "### Inverse problem\n",
    "Given the data compute the posterior distribution of the number of sensitive subjects.  \n",
    "\n",
    "Strategy: Loop through possible values of num sensitive, and compute the distribution of data for each."
   ]
  },
  {
   "cell_type": "code",
   "execution_count": 28,
   "id": "591ee98d-15ee-47ff-99cb-ccc2201f10e4",
   "metadata": {},
   "outputs": [],
   "source": [
    "import pandas as pd\n",
    "\n",
    "table = pd.DataFrame()\n",
    "for n_sens in range(0, n+1):\n",
    "    n_insens = n - n_sens\n",
    "    dist_sens = make_binomial(n_sens, 0.95)\n",
    "    dist_insens = make_binomial(n_insens, 0.4)\n",
    "    dist_total = Pmf.add_dist(dist_sens, dist_insens)\n",
    "    table[n_sens] = dist_total"
   ]
  },
  {
   "cell_type": "code",
   "execution_count": 32,
   "id": "f188ef39-01ed-4cee-93a5-d88eeeb04f6c",
   "metadata": {},
   "outputs": [
    {
     "data": {
      "image/png": "[encoded data removed]",
      "text/plain": [
       "<Figure size 432x288 with 1 Axes>"
      ]
     },
     "metadata": {
      "needs_background": "light"
     },
     "output_type": "display_data"
    }
   ],
   "source": [
    "#Plot\n",
    "#increasing sensitivity increases expected response rate\n",
    "table[0].plot(label='num_sensitive = 0')\n",
    "table[10].plot(label='num_sensitive = 10')\n",
    "table[20].plot(label='num_sensitive = 20', ls='--')\n",
    "table[30].plot(label='num_sensitive = 30', ls=':')"
   ]
  },
  {
   "cell_type": "code",
   "execution_count": 33,
   "id": "13b59819-698f-4f68-b474-b0da467230fa",
   "metadata": {},
   "outputs": [],
   "source": [
    "#select row (row 12, ie row with 12 correct identifications for each hypothetical value of n_sens). Use this likelihood to do an update\n",
    "likelihood1 = table.loc[12]\n",
    "hypos = np.arange(n+1)\n",
    "prior = Pmf(1, hypos)"
   ]
  },
  {
   "cell_type": "code",
   "execution_count": 34,
   "id": "54133df7-31b3-45a7-bd6e-2aa5fbec676f",
   "metadata": {},
   "outputs": [
    {
     "data": {
      "text/plain": [
       "0.4754741648615133"
      ]
     },
     "execution_count": 34,
     "metadata": {},
     "output_type": "execute_result"
    }
   ],
   "source": [
    "posterior1 = prior * likelihood1\n",
    "posterior1.normalize()"
   ]
  },
  {
   "cell_type": "code",
   "execution_count": 35,
   "id": "e3cebd52-2d95-4266-bb02-dd1a37d58f69",
   "metadata": {},
   "outputs": [
    {
     "data": {
      "text/plain": [
       "1.7818649765887378"
      ]
     },
     "execution_count": 35,
     "metadata": {},
     "output_type": "execute_result"
    }
   ],
   "source": [
    "#compare with outcome with 20 correct identifications\n",
    "likelihood2 = table.loc[20]\n",
    "posterior2 = prior * likelihood2\n",
    "posterior2.normalize()"
   ]
  },
  {
   "cell_type": "code",
   "execution_count": 38,
   "id": "598e455d-b56c-4719-b063-1dce04d245f7",
   "metadata": {},
   "outputs": [
    {
     "data": {
      "text/plain": [
       "<AxesSubplot:>"
      ]
     },
     "execution_count": 38,
     "metadata": {},
     "output_type": "execute_result"
    },
    {
     "data": {
      "image/png": "[encoded data removed]",
      "text/plain": [
       "<Figure size 432x288 with 1 Axes>"
      ]
     },
     "metadata": {
      "needs_background": "light"
     },
     "output_type": "display_data"
    }
   ],
   "source": [
    "posterior1.plot(label='posterior with 12 correct', color='purple')\n",
    "posterior2.plot(label='posterior with 20 correct', color='orange')\n",
    "#x is number of senstive subjects, y = probability"
   ]
  },
  {
   "cell_type": "code",
   "execution_count": 45,
   "id": "885d9e04-d9c3-45ac-9567-1227b44f251b",
   "metadata": {},
   "outputs": [
    {
     "name": "stdout",
     "output_type": "stream",
     "text": [
      "0\n",
      "11\n"
     ]
    }
   ],
   "source": [
    "#Get expected value\n",
    "print(posterior1.max_prob())\n",
    "print(posterior2.max_prob())"
   ]
  },
  {
   "cell_type": "markdown",
   "id": "15e58eeb-ba39-40a5-b22c-ba1478806e1d",
   "metadata": {},
   "source": [
    "The 12 respondants are most consistent with none of those samples being sensitive to gluten, which could be explained by random chance."
   ]
  },
  {
   "cell_type": "markdown",
   "id": "a591c0ec-822e-4d8e-9e74-a928c4b47b0b",
   "metadata": {},
   "source": [
    "# Excercises\n",
    "\n",
    "## Excercise 1\n",
    "Use Bayes's rule to solve Elvis problem\n",
    "> Elvis Presley had a twin brother who died at birth. What is the probability that Elvis was an identical twin?\n",
    "\n",
    "- In 1935, 2/3 twins were fraternal and 1/3 were identical. (prior)\n",
    "- Elvis's twin was also male, which is more likely if they are identical (likihood ratio: 2)\n",
    "- Elvis's twin died at birth, which is more likely if they are identical (likehood ratio: 1.25)\n"
   ]
  },
  {
   "cell_type": "code",
   "execution_count": 46,
   "id": "5a85f150-4da5-4ed3-8989-74f87537110b",
   "metadata": {},
   "outputs": [],
   "source": [
    "#given odds of being identical in 1935\n",
    "prior_odds = odds(1/3)"
   ]
  },
  {
   "cell_type": "code",
   "execution_count": 49,
   "id": "02d62883-72a8-4b85-b0cb-1e0612d64c78",
   "metadata": {},
   "outputs": [
    {
     "data": {
      "text/plain": [
       "1.2499999999999998"
      ]
     },
     "execution_count": 49,
     "metadata": {},
     "output_type": "execute_result"
    }
   ],
   "source": [
    "#update by multiplying by likelihoods\n",
    "post_odds = prior_odds * 2 * 1.25\n",
    "post_odds"
   ]
  },
  {
   "cell_type": "code",
   "execution_count": 48,
   "id": "3c9527e8-41cc-4c5e-8b32-05e5939c8357",
   "metadata": {},
   "outputs": [
    {
     "data": {
      "text/plain": [
       "0.5555555555555555"
      ]
     },
     "execution_count": 48,
     "metadata": {},
     "output_type": "execute_result"
    }
   ],
   "source": [
    "#convert from odds of true to probability \n",
    "prob(post_odds)"
   ]
  },
  {
   "cell_type": "markdown",
   "id": "6b54f82e-2a3e-4708-9ddf-7136d799c5e3",
   "metadata": {},
   "source": [
    "## Excercise 2 Rain in Seattle \n",
    "\n",
    ">You call three friends in Seattle to independently ask if it is raining.  Each friend has a 2/3 chance of telling the truth, while 1/3 chance of lying to mess with you. All three friends say yes, what is the probability it is raining in Seattle.\n",
    "\n",
    "- As a prior, assume it is raining 10% of the time in Seattle"
   ]
  },
  {
   "cell_type": "code",
   "execution_count": 50,
   "id": "8cd9223b-be90-4e02-8190-2f6e4d937119",
   "metadata": {},
   "outputs": [
    {
     "data": {
      "text/plain": [
       "0.11111111111111112"
      ]
     },
     "execution_count": 50,
     "metadata": {},
     "output_type": "execute_result"
    }
   ],
   "source": [
    "prior_odds = odds(0.1)\n",
    "prior_odds"
   ]
  },
  {
   "cell_type": "code",
   "execution_count": 53,
   "id": "7c8b2c23-5569-4463-b6e5-9121ab61aa95",
   "metadata": {},
   "outputs": [
    {
     "data": {
      "text/plain": [
       "0.888888888888889"
      ]
     },
     "execution_count": 53,
     "metadata": {},
     "output_type": "execute_result"
    }
   ],
   "source": [
    "#update prior with info from friends (2:1 three times)\n",
    "post_odds = prior_odds * 2 ** 3\n",
    "post_odds"
   ]
  },
  {
   "cell_type": "code",
   "execution_count": 54,
   "id": "6a185bc7-772f-430f-9662-89f0b7b08b20",
   "metadata": {},
   "outputs": [
    {
     "data": {
      "text/plain": [
       "0.4705882352941177"
      ]
     },
     "execution_count": 54,
     "metadata": {},
     "output_type": "execute_result"
    }
   ],
   "source": [
    "#Convert to probability\n",
    "prob(post_odds)"
   ]
  },
  {
   "cell_type": "markdown",
   "id": "5e68f6ef-1c71-4bcc-9525-2903e5bc9a9f",
   "metadata": {},
   "source": [
    "## Excercise 3. Smoking and lung cancer\n",
    "\n",
    "According to CDC people who smoke are 25x more likely to develop lung cancer. 14% of adults in US are smokers. If you learn someone has lung cancer, what is the probabilty they are a smoker?"
   ]
  },
  {
   "cell_type": "code",
   "execution_count": 56,
   "id": "0ae73536-733b-4107-a184-ab7e8117940a",
   "metadata": {},
   "outputs": [
    {
     "data": {
      "text/plain": [
       "0.16279069767441862"
      ]
     },
     "execution_count": 56,
     "metadata": {},
     "output_type": "execute_result"
    }
   ],
   "source": [
    "#assign prior\n",
    "prior_odds = odds(0.14)\n",
    "prior_odds"
   ]
  },
  {
   "cell_type": "code",
   "execution_count": 59,
   "id": "8ed0ca36-97f0-4e08-ab8f-0f5a60726dc0",
   "metadata": {},
   "outputs": [
    {
     "data": {
      "text/plain": [
       "4.069767441860465"
      ]
     },
     "execution_count": 59,
     "metadata": {},
     "output_type": "execute_result"
    }
   ],
   "source": [
    "#update prior\n",
    "post_odds = prior_odds * 25\n",
    "post_odds"
   ]
  },
  {
   "cell_type": "code",
   "execution_count": 60,
   "id": "0478de5a-81c9-4b7a-8154-5f3bd6e1c3cc",
   "metadata": {},
   "outputs": [
    {
     "data": {
      "text/plain": [
       "0.8027522935779816"
      ]
     },
     "execution_count": 60,
     "metadata": {},
     "output_type": "execute_result"
    }
   ],
   "source": [
    "prob(post_odds)"
   ]
  },
  {
   "cell_type": "markdown",
   "id": "7dd68545-16c4-472b-b5a3-875f8a3d7c3f",
   "metadata": {},
   "source": [
    "## Exercise 7: Honest Congressmen\n",
    "\n",
    "There are 538 members of congress. We audit their investment portfolios and find 312 of them out-perform the market.  Assume a honest member of congress has a 50% chance to outperform the market, and a crooked member who uses insider information has a 90% chance.  How many honest members of congress likely exist?"
   ]
  },
  {
   "cell_type": "code",
   "execution_count": 64,
   "id": "b9c39425-b28c-4196-9a71-88d90938edd3",
   "metadata": {},
   "outputs": [
    {
     "name": "stderr",
     "output_type": "stream",
     "text": [
      "/var/folders/0k/22jkfg150n14r67m14wxl5ww0000gn/T/ipykernel_26662/1142260492.py:10: PerformanceWarning: DataFrame is highly fragmented.  This is usually the result of calling `frame.insert` many times, which has poor performance.  Consider joining all columns at once using pd.concat(axis=1) instead.  To get a de-fragmented frame, use `newframe = frame.copy()`\n",
      "  table[n_honest] = dist_total\n"
     ]
    },
    {
     "data": {
      "text/plain": [
       "(539, 539)"
      ]
     },
     "execution_count": 64,
     "metadata": {},
     "output_type": "execute_result"
    }
   ],
   "source": [
    "#generate possibilities\n",
    "n = 538\n",
    "table = pd.DataFrame()\n",
    "for n_honest in range(0, n+1):\n",
    "    n_crooked = n - n_honest\n",
    "    \n",
    "    dist_honest = make_binomial(n_honest, 0.5)\n",
    "    dist_crooked = make_binomial(n_crooked, 0.9)\n",
    "    dist_total = Pmf.add_dist(dist_honest, dist_crooked)\n",
    "    table[n_honest] = dist_total\n",
    "table.shape\n",
    "    "
   ]
  },
  {
   "cell_type": "code",
   "execution_count": 65,
   "id": "47ae004f-f7e4-4caf-addd-d470f7a5e02b",
   "metadata": {},
   "outputs": [
    {
     "data": {
      "text/plain": [
       "539"
      ]
     },
     "execution_count": 65,
     "metadata": {},
     "output_type": "execute_result"
    }
   ],
   "source": [
    "#observed data is 312, so check likelihood\n",
    "data = 312\n",
    "likelihood = table.loc[312]\n",
    "len(likelihood)"
   ]
  },
  {
   "cell_type": "code",
   "execution_count": 66,
   "id": "1da889fa-a10b-4ae1-9b01-be0637bdaf88",
   "metadata": {},
   "outputs": [
    {
     "data": {
      "text/plain": [
       "539"
      ]
     },
     "execution_count": 66,
     "metadata": {},
     "output_type": "execute_result"
    }
   ],
   "source": [
    "#set prior\n",
    "hypos = np.arange(n+1)\n",
    "prior = Pmf(1, hypos)\n",
    "len(prior)"
   ]
  },
  {
   "cell_type": "code",
   "execution_count": 67,
   "id": "6d325ebe-37d5-4cc2-b33d-256fcb7be197",
   "metadata": {},
   "outputs": [
    {
     "data": {
      "text/plain": [
       "431.48821145019946"
      ]
     },
     "execution_count": 67,
     "metadata": {},
     "output_type": "execute_result"
    }
   ],
   "source": [
    "#solution\n",
    "posterior = prior * likelihood\n",
    "posterior.normalize()\n",
    "posterior.mean()"
   ]
  },
  {
   "cell_type": "code",
   "execution_count": 68,
   "id": "b9ce4fda-1145-444d-9b3a-46ce047e4c02",
   "metadata": {},
   "outputs": [
    {
     "data": {
      "text/plain": [
       "<AxesSubplot:>"
      ]
     },
     "execution_count": 68,
     "metadata": {},
     "output_type": "execute_result"
    },
    {
     "data": {
      "image/png": "[encoded data removed]",
      "text/plain": [
       "<Figure size 432x288 with 1 Axes>"
      ]
     },
     "metadata": {
      "needs_background": "light"
     },
     "output_type": "display_data"
    }
   ],
   "source": [
    "posterior.plot(label='posterior')"
   ]
  },
  {
   "cell_type": "code",
   "execution_count": 69,
   "id": "61e562dd-20c9-4f6e-998f-7e233f010464",
   "metadata": {},
   "outputs": [
    {
     "data": {
      "text/plain": [
       "430"
      ]
     },
     "execution_count": 69,
     "metadata": {},
     "output_type": "execute_result"
    }
   ],
   "source": [
    "#get most likely result\n",
    "posterior.max_prob()\n"
   ]
  },
  {
   "cell_type": "markdown",
   "id": "81865538-5b9b-4c30-ba0f-61a0456070ac",
   "metadata": {},
   "source": [
    "## Exercise: DND\n",
    "\n",
    "In Dungeons & Dragons, the amount of damage a goblin can withstand is the sum of two six-sided dice. The amount of damage you inflict with a short sword is determined by rolling one six-sided die. A goblin is defeated if the total damage you inflict is greater than or equal to the amount it can withstand.\n",
    "\n",
    "Suppose you are fighting a goblin and you have already inflicted 3 points of damage. What is your probability of defeating the goblin with your next successful attack?\n",
    "\n"
   ]
  },
  {
   "cell_type": "code",
   "execution_count": 72,
   "id": "3e04d40c-0d30-4570-8230-685feff58476",
   "metadata": {},
   "outputs": [],
   "source": [
    "d6 = make_die(6)"
   ]
  },
  {
   "cell_type": "code",
   "execution_count": 78,
   "id": "a51250c4-ca61-4926-9997-a8288cfaaa67",
   "metadata": {},
   "outputs": [
    {
     "data": {
      "text/html": [
       "<div>\n",
       "<style scoped>\n",
       "    .dataframe tbody tr th:only-of-type {\n",
       "        vertical-align: middle;\n",
       "    }\n",
       "\n",
       "    .dataframe tbody tr th {\n",
       "        vertical-align: top;\n",
       "    }\n",
       "\n",
       "    .dataframe thead th {\n",
       "        text-align: right;\n",
       "    }\n",
       "</style>\n",
       "<table border=\"1\" class=\"dataframe\">\n",
       "  <thead>\n",
       "    <tr style=\"text-align: right;\">\n",
       "      <th></th>\n",
       "      <th>probs</th>\n",
       "    </tr>\n",
       "  </thead>\n",
       "  <tbody>\n",
       "    <tr>\n",
       "      <th>2</th>\n",
       "      <td>0.027778</td>\n",
       "    </tr>\n",
       "    <tr>\n",
       "      <th>3</th>\n",
       "      <td>0.055556</td>\n",
       "    </tr>\n",
       "    <tr>\n",
       "      <th>4</th>\n",
       "      <td>0.083333</td>\n",
       "    </tr>\n",
       "    <tr>\n",
       "      <th>5</th>\n",
       "      <td>0.111111</td>\n",
       "    </tr>\n",
       "    <tr>\n",
       "      <th>6</th>\n",
       "      <td>0.138889</td>\n",
       "    </tr>\n",
       "    <tr>\n",
       "      <th>7</th>\n",
       "      <td>0.166667</td>\n",
       "    </tr>\n",
       "    <tr>\n",
       "      <th>8</th>\n",
       "      <td>0.138889</td>\n",
       "    </tr>\n",
       "    <tr>\n",
       "      <th>9</th>\n",
       "      <td>0.111111</td>\n",
       "    </tr>\n",
       "    <tr>\n",
       "      <th>10</th>\n",
       "      <td>0.083333</td>\n",
       "    </tr>\n",
       "    <tr>\n",
       "      <th>11</th>\n",
       "      <td>0.055556</td>\n",
       "    </tr>\n",
       "    <tr>\n",
       "      <th>12</th>\n",
       "      <td>0.027778</td>\n",
       "    </tr>\n",
       "  </tbody>\n",
       "</table>\n",
       "</div>"
      ],
      "text/plain": [
       "2     0.027778\n",
       "3     0.055556\n",
       "4     0.083333\n",
       "5     0.111111\n",
       "6     0.138889\n",
       "7     0.166667\n",
       "8     0.138889\n",
       "9     0.111111\n",
       "10    0.083333\n",
       "11    0.055556\n",
       "12    0.027778\n",
       "Name: , dtype: float64"
      ]
     },
     "execution_count": 78,
     "metadata": {},
     "output_type": "execute_result"
    }
   ],
   "source": [
    "initial_hp = Pmf.add_dist(d6, d6)\n",
    "initial_hp"
   ]
  },
  {
   "cell_type": "code",
   "execution_count": 77,
   "id": "ec25c321-c5c9-48d8-b098-e9ee8afaf9e3",
   "metadata": {},
   "outputs": [
    {
     "data": {
      "text/html": [
       "<div>\n",
       "<style scoped>\n",
       "    .dataframe tbody tr th:only-of-type {\n",
       "        vertical-align: middle;\n",
       "    }\n",
       "\n",
       "    .dataframe tbody tr th {\n",
       "        vertical-align: top;\n",
       "    }\n",
       "\n",
       "    .dataframe thead th {\n",
       "        text-align: right;\n",
       "    }\n",
       "</style>\n",
       "<table border=\"1\" class=\"dataframe\">\n",
       "  <thead>\n",
       "    <tr style=\"text-align: right;\">\n",
       "      <th></th>\n",
       "      <th>probs</th>\n",
       "    </tr>\n",
       "  </thead>\n",
       "  <tbody>\n",
       "    <tr>\n",
       "      <th>-1</th>\n",
       "      <td>0.027778</td>\n",
       "    </tr>\n",
       "    <tr>\n",
       "      <th>0</th>\n",
       "      <td>0.055556</td>\n",
       "    </tr>\n",
       "    <tr>\n",
       "      <th>1</th>\n",
       "      <td>0.083333</td>\n",
       "    </tr>\n",
       "    <tr>\n",
       "      <th>2</th>\n",
       "      <td>0.111111</td>\n",
       "    </tr>\n",
       "    <tr>\n",
       "      <th>3</th>\n",
       "      <td>0.138889</td>\n",
       "    </tr>\n",
       "    <tr>\n",
       "      <th>4</th>\n",
       "      <td>0.166667</td>\n",
       "    </tr>\n",
       "    <tr>\n",
       "      <th>5</th>\n",
       "      <td>0.138889</td>\n",
       "    </tr>\n",
       "    <tr>\n",
       "      <th>6</th>\n",
       "      <td>0.111111</td>\n",
       "    </tr>\n",
       "    <tr>\n",
       "      <th>7</th>\n",
       "      <td>0.083333</td>\n",
       "    </tr>\n",
       "    <tr>\n",
       "      <th>8</th>\n",
       "      <td>0.055556</td>\n",
       "    </tr>\n",
       "    <tr>\n",
       "      <th>9</th>\n",
       "      <td>0.027778</td>\n",
       "    </tr>\n",
       "  </tbody>\n",
       "</table>\n",
       "</div>"
      ],
      "text/plain": [
       "-1    0.027778\n",
       " 0    0.055556\n",
       " 1    0.083333\n",
       " 2    0.111111\n",
       " 3    0.138889\n",
       " 4    0.166667\n",
       " 5    0.138889\n",
       " 6    0.111111\n",
       " 7    0.083333\n",
       " 8    0.055556\n",
       " 9    0.027778\n",
       "Name: , dtype: float64"
      ]
     },
     "execution_count": 77,
     "metadata": {},
     "output_type": "execute_result"
    }
   ],
   "source": [
    "damaged_hp = Pmf.sub_dist(initial_hp, 3)\n",
    "damaged_hp"
   ]
  },
  {
   "cell_type": "code",
   "execution_count": 79,
   "id": "3ada52c5-904b-4bb6-8763-007288c751b9",
   "metadata": {},
   "outputs": [
    {
     "data": {
      "text/html": [
       "<div>\n",
       "<style scoped>\n",
       "    .dataframe tbody tr th:only-of-type {\n",
       "        vertical-align: middle;\n",
       "    }\n",
       "\n",
       "    .dataframe tbody tr th {\n",
       "        vertical-align: top;\n",
       "    }\n",
       "\n",
       "    .dataframe thead th {\n",
       "        text-align: right;\n",
       "    }\n",
       "</style>\n",
       "<table border=\"1\" class=\"dataframe\">\n",
       "  <thead>\n",
       "    <tr style=\"text-align: right;\">\n",
       "      <th></th>\n",
       "      <th>probs</th>\n",
       "    </tr>\n",
       "  </thead>\n",
       "  <tbody>\n",
       "    <tr>\n",
       "      <th>-1</th>\n",
       "      <td>0.000000</td>\n",
       "    </tr>\n",
       "    <tr>\n",
       "      <th>0</th>\n",
       "      <td>0.000000</td>\n",
       "    </tr>\n",
       "    <tr>\n",
       "      <th>1</th>\n",
       "      <td>0.090909</td>\n",
       "    </tr>\n",
       "    <tr>\n",
       "      <th>2</th>\n",
       "      <td>0.121212</td>\n",
       "    </tr>\n",
       "    <tr>\n",
       "      <th>3</th>\n",
       "      <td>0.151515</td>\n",
       "    </tr>\n",
       "    <tr>\n",
       "      <th>4</th>\n",
       "      <td>0.181818</td>\n",
       "    </tr>\n",
       "    <tr>\n",
       "      <th>5</th>\n",
       "      <td>0.151515</td>\n",
       "    </tr>\n",
       "    <tr>\n",
       "      <th>6</th>\n",
       "      <td>0.121212</td>\n",
       "    </tr>\n",
       "    <tr>\n",
       "      <th>7</th>\n",
       "      <td>0.090909</td>\n",
       "    </tr>\n",
       "    <tr>\n",
       "      <th>8</th>\n",
       "      <td>0.060606</td>\n",
       "    </tr>\n",
       "    <tr>\n",
       "      <th>9</th>\n",
       "      <td>0.030303</td>\n",
       "    </tr>\n",
       "  </tbody>\n",
       "</table>\n",
       "</div>"
      ],
      "text/plain": [
       "-1    0.000000\n",
       " 0    0.000000\n",
       " 1    0.090909\n",
       " 2    0.121212\n",
       " 3    0.151515\n",
       " 4    0.181818\n",
       " 5    0.151515\n",
       " 6    0.121212\n",
       " 7    0.090909\n",
       " 8    0.060606\n",
       " 9    0.030303\n",
       "Name: , dtype: float64"
      ]
     },
     "execution_count": 79,
     "metadata": {},
     "output_type": "execute_result"
    }
   ],
   "source": [
    "damaged_hp[[-1, 0]] = 0\n",
    "damaged_hp.normalize()\n",
    "damaged_hp"
   ]
  },
  {
   "cell_type": "code",
   "execution_count": 80,
   "id": "816a0605-9f55-4fa9-a93d-316708169e1f",
   "metadata": {},
   "outputs": [],
   "source": [
    "damage = d6"
   ]
  },
  {
   "cell_type": "code",
   "execution_count": 82,
   "id": "52f717b0-2483-4ae6-beab-4ac3778e4677",
   "metadata": {},
   "outputs": [
    {
     "data": {
      "text/plain": [
       "0.4545454545454545"
      ]
     },
     "execution_count": 82,
     "metadata": {},
     "output_type": "execute_result"
    }
   ],
   "source": [
    "points_left = Pmf.sub_dist(damaged_hp, damage)\n",
    "points_left.prob_le(0)"
   ]
  },
  {
   "cell_type": "code",
   "execution_count": null,
   "id": "ed54c08f-b08d-490d-8c28-8c879bee422d",
   "metadata": {},
   "outputs": [],
   "source": []
  }
 ],
 "metadata": {
  "kernelspec": {
   "display_name": "Python 3 (ipykernel)",
   "language": "python",
   "name": "python3"
  },
  "language_info": {
   "codemirror_mode": {
    "name": "ipython",
    "version": 3
   },
   "file_extension": ".py",
   "mimetype": "text/x-python",
   "name": "python",
   "nbconvert_exporter": "python",
   "pygments_lexer": "ipython3",
   "version": "3.9.7"
  }
 },
 "nbformat": 4,
 "nbformat_minor": 5
}
