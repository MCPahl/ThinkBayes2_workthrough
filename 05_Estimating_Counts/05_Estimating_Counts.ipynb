{
 "cells": [
  {
   "cell_type": "markdown",
   "id": "ea4c982f-e4e2-454f-92ea-ff12db2969f2",
   "metadata": {},
   "source": [
    "# Chapter 5: Estimating Counts"
   ]
  },
  {
   "cell_type": "markdown",
   "id": "25b5d780-7520-4dc0-93bf-7ead3c584d18",
   "metadata": {},
   "source": [
    "Problems relevant to counting or estimating the size of a population\n",
    "\n",
    "## Motivating Example, The Train Problem\n",
    ">\"A railroad numbers its locomotives in order 1..N. One day you see a locomotive with the number 60. Estimate how many locomotives the railroad has.\"\n",
    "\n",
    "From this observation, we know the railroad as at least 60 locomotives.\n",
    "\n",
    "Two questions to ask with Bayesian reasoning,\n",
    "1. What did we know about the value of N before seeing the data?\n",
    "2. For any given value of N, what is the likelihood of seeing 60 locomotives?\n",
    "\n",
    "Or (1) what is the prior? and (2) what is the likelihood?\n",
    "\n",
    "(1) Not much rationale, assume it could be any number between 1 and 1000"
   ]
  },
  {
   "cell_type": "code",
   "execution_count": 1,
   "id": "be8ff6e8-7509-4a87-896f-b8dcdf64e93b",
   "metadata": {},
   "outputs": [],
   "source": [
    "#Generate prior distribution\n",
    "import numpy as np\n",
    "from empiricaldist import Pmf\n",
    "\n",
    "hypos = np.arange(1, 1001)\n",
    "prior = Pmf(1, hypos)"
   ]
  },
  {
   "cell_type": "code",
   "execution_count": 2,
   "id": "900c4a23-3583-4f4c-9ee6-e85590a0b7e5",
   "metadata": {},
   "outputs": [],
   "source": [
    "#Generate likelihood function\n",
    "def update_train(pmf, data):\n",
    "    \"\"\"update pmf based on new data\"\"\"\n",
    "    hypos = pmf.qs\n",
    "    likelihood = 1/ hypos\n",
    "    impossible = (data > hypos)\n",
    "    likelihood[impossible] = 0\n",
    "    pmf *= likelihood\n",
    "    pmf.normalize()"
   ]
  },
  {
   "cell_type": "code",
   "execution_count": 3,
   "id": "3e90d3a7-81cb-4e34-8f92-a5e960ffaa0b",
   "metadata": {},
   "outputs": [],
   "source": [
    "#Update\n",
    "data = 60\n",
    "posterior = prior.copy()\n",
    "update_train(posterior, data)"
   ]
  },
  {
   "cell_type": "code",
   "execution_count": 5,
   "id": "9899c18b-2909-4ab8-9a6c-6178d0b13f3a",
   "metadata": {},
   "outputs": [
    {
     "data": {
      "text/plain": [
       "<AxesSubplot:>"
      ]
     },
     "execution_count": 5,
     "metadata": {},
     "output_type": "execute_result"
    },
    {
     "data": {
      "image/png": "[encoded data removed]",
      "text/plain": [
       "<Figure size 432x288 with 1 Axes>"
      ]
     },
     "metadata": {
      "needs_background": "light"
     },
     "output_type": "display_data"
    }
   ],
   "source": [
    "posterior.plot(label='Posterior after train 60', color='C4')"
   ]
  },
  {
   "cell_type": "code",
   "execution_count": 6,
   "id": "b817d9c7-a9ac-4a70-a3ff-3bf117d8c9bb",
   "metadata": {},
   "outputs": [
    {
     "data": {
      "text/plain": [
       "60"
      ]
     },
     "execution_count": 6,
     "metadata": {},
     "output_type": "execute_result"
    }
   ],
   "source": [
    "#Values below 60 were eliminated, most likely 60, decreasing over time.\n",
    "posterior.max_prob()"
   ]
  },
  {
   "cell_type": "markdown",
   "id": "df799094-d2eb-46f4-9749-4abb283a801f",
   "metadata": {},
   "source": [
    "Given this result, should guess 60. This is unlikely to be right, since it's derived from only one observation.  Another option would be to compute the mean of the distribution."
   ]
  },
  {
   "cell_type": "code",
   "execution_count": 8,
   "id": "19a2ad1f-0d3a-461a-86ce-b26a7bba2971",
   "metadata": {},
   "outputs": [
    {
     "data": {
      "text/plain": [
       "333.41989326370776"
      ]
     },
     "execution_count": 8,
     "metadata": {},
     "output_type": "execute_result"
    }
   ],
   "source": [
    "np.sum(posterior.ps * posterior.qs)"
   ]
  },
  {
   "cell_type": "markdown",
   "id": "b396e595-4a78-4d56-84aa-1b865e13117b",
   "metadata": {},
   "source": [
    "If you watched for trains multiple days, taking the mean of the distribution would minimize the mean-squared error over eventually."
   ]
  },
  {
   "cell_type": "markdown",
   "id": "c102bb57-2c7c-4348-b6ad-e76a7a680df3",
   "metadata": {},
   "source": [
    "# Sensitivity to the Prior"
   ]
  },
  {
   "cell_type": "markdown",
   "id": "497aa83b-c846-43e7-a2fa-392475879042",
   "metadata": {},
   "source": [
    "Last example used an uniform prior from 1 to 1000.  However there was no rationale for selecting this prior.  May question how sensitive our posterior distribution is to the prior.  Given we only had one observation, it's likely very sensitive."
   ]
  },
  {
   "cell_type": "code",
   "execution_count": 9,
   "id": "81d6d42a-51c1-4d24-adec-403560a4b93c",
   "metadata": {},
   "outputs": [
    {
     "data": {
      "text/html": [
       "<div>\n",
       "<style scoped>\n",
       "    .dataframe tbody tr th:only-of-type {\n",
       "        vertical-align: middle;\n",
       "    }\n",
       "\n",
       "    .dataframe tbody tr th {\n",
       "        vertical-align: top;\n",
       "    }\n",
       "\n",
       "    .dataframe thead th {\n",
       "        text-align: right;\n",
       "    }\n",
       "</style>\n",
       "<table border=\"1\" class=\"dataframe\">\n",
       "  <thead>\n",
       "    <tr style=\"text-align: right;\">\n",
       "      <th></th>\n",
       "      <th>Posterior mean</th>\n",
       "    </tr>\n",
       "    <tr>\n",
       "      <th>Upper bound</th>\n",
       "      <th></th>\n",
       "    </tr>\n",
       "  </thead>\n",
       "  <tbody>\n",
       "    <tr>\n",
       "      <th>500</th>\n",
       "      <td>207.079228</td>\n",
       "    </tr>\n",
       "    <tr>\n",
       "      <th>1000</th>\n",
       "      <td>333.419893</td>\n",
       "    </tr>\n",
       "    <tr>\n",
       "      <th>2000</th>\n",
       "      <td>552.179017</td>\n",
       "    </tr>\n",
       "  </tbody>\n",
       "</table>\n",
       "</div>"
      ],
      "text/plain": [
       "             Posterior mean\n",
       "Upper bound                \n",
       "500              207.079228\n",
       "1000             333.419893\n",
       "2000             552.179017"
      ]
     },
     "execution_count": 9,
     "metadata": {},
     "output_type": "execute_result"
    }
   ],
   "source": [
    "import pandas as pd\n",
    "\n",
    "df = pd.DataFrame(columns=['Posterior mean'])\n",
    "df.index.name = 'Upper bound'\n",
    "\n",
    "for high in [500, 1000, 2000]:\n",
    "    hypos = np.arange(1, high+1)\n",
    "    pmf = Pmf(1, hypos)\n",
    "    update_train(pmf, data=60)\n",
    "    df.loc[high] = pmf.mean()\n",
    "    \n",
    "df"
   ]
  },
  {
   "cell_type": "markdown",
   "id": "368d00f4-cb6d-46b6-ac9c-2ca1c9b5895c",
   "metadata": {},
   "source": [
    "Varying the upper bound of number of trains substantially changes the prior, which is bad.\n",
    "Two ways to proceed with a model when the posterior is sensitive to the prior\n",
    "- Get more data\n",
    "- Get background info in order to form a better prior\n",
    "\n",
    "With more data, distributions with different priors tend to converge.\n",
    "Ex, suppose we saw 30 trains the next day, and 90 trains the day following that\n"
   ]
  },
  {
   "cell_type": "code",
   "execution_count": 10,
   "id": "8cab6903-379e-4752-a137-7bfeba3e233d",
   "metadata": {},
   "outputs": [
    {
     "data": {
      "text/html": [
       "<div>\n",
       "<style scoped>\n",
       "    .dataframe tbody tr th:only-of-type {\n",
       "        vertical-align: middle;\n",
       "    }\n",
       "\n",
       "    .dataframe tbody tr th {\n",
       "        vertical-align: top;\n",
       "    }\n",
       "\n",
       "    .dataframe thead th {\n",
       "        text-align: right;\n",
       "    }\n",
       "</style>\n",
       "<table border=\"1\" class=\"dataframe\">\n",
       "  <thead>\n",
       "    <tr style=\"text-align: right;\">\n",
       "      <th></th>\n",
       "      <th>Posterior mean</th>\n",
       "    </tr>\n",
       "    <tr>\n",
       "      <th>Upper bound</th>\n",
       "      <th></th>\n",
       "    </tr>\n",
       "  </thead>\n",
       "  <tbody>\n",
       "    <tr>\n",
       "      <th>500</th>\n",
       "      <td>151.849588</td>\n",
       "    </tr>\n",
       "    <tr>\n",
       "      <th>1000</th>\n",
       "      <td>164.305586</td>\n",
       "    </tr>\n",
       "    <tr>\n",
       "      <th>2000</th>\n",
       "      <td>171.338181</td>\n",
       "    </tr>\n",
       "  </tbody>\n",
       "</table>\n",
       "</div>"
      ],
      "text/plain": [
       "             Posterior mean\n",
       "Upper bound                \n",
       "500              151.849588\n",
       "1000             164.305586\n",
       "2000             171.338181"
      ]
     },
     "execution_count": 10,
     "metadata": {},
     "output_type": "execute_result"
    }
   ],
   "source": [
    "df = pd.DataFrame(columns=['Posterior mean'])\n",
    "df.index.name = 'Upper bound'\n",
    "\n",
    "dataset = [30, 60, 90]\n",
    "\n",
    "for high in [500, 1000, 2000]:\n",
    "    hypos = np.arange(1, high+1)\n",
    "    pmf = Pmf(1, hypos)\n",
    "    for data in dataset:\n",
    "        update_train(pmf, data)\n",
    "    df.loc[high] = pmf.mean()\n",
    "    \n",
    "df"
   ]
  },
  {
   "cell_type": "markdown",
   "id": "5e39a15e-0ba7-4a89-9d70-4380f185b627",
   "metadata": {},
   "source": [
    "Now we have smaller differences."
   ]
  },
  {
   "cell_type": "markdown",
   "id": "a4d4ce86-f3af-424d-95bf-1ba3fde59a3e",
   "metadata": {},
   "source": [
    "# Power law prior"
   ]
  },
  {
   "cell_type": "markdown",
   "id": "5e742b50-3ce8-4e2e-9bcc-e979b1a69416",
   "metadata": {},
   "source": [
    "If additional data is not available, another approach is to gather more background information.\n",
    "It's probably not reasonable to assume that 1 locomotive and 1000 locamotives are equally likely, especially in this economy.\n",
    "\n",
    "One way is to interview local experts on the size of locomotive companies.\n",
    "Or some non-specific information could be useful, like that company sizes tend to follow power-law distributions (many small companies and few big companies).\n",
    "\n",
    "Expect if 1000 companies have < 10 locomotives, then maybe 100 have < 100, and 10 have < 1000 etc.\n",
    "\n",
    "Represented as N ~ [ 1/ (N) ]^alpha; where alpha is a number, usually near 1"
   ]
  },
  {
   "cell_type": "code",
   "execution_count": 11,
   "id": "7aa0e9d5-14ec-4ff2-8979-9ca0aebaebf0",
   "metadata": {},
   "outputs": [
    {
     "data": {
      "text/plain": [
       "8.178368103610282"
      ]
     },
     "execution_count": 11,
     "metadata": {},
     "output_type": "execute_result"
    }
   ],
   "source": [
    "#Construct power law\n",
    "\n",
    "alpha = 1.0\n",
    "ps = hypos ** (-alpha)\n",
    "power = Pmf(ps, hypos, name = 'power law')\n",
    "power.normalize()"
   ]
  },
  {
   "cell_type": "code",
   "execution_count": 12,
   "id": "c5edcc82-2471-4359-874d-f78cd3504195",
   "metadata": {},
   "outputs": [
    {
     "data": {
      "text/plain": [
       "<AxesSubplot:>"
      ]
     },
     "execution_count": 12,
     "metadata": {},
     "output_type": "execute_result"
    },
    {
     "data": {
      "image/png": "[encoded data removed]",
      "text/plain": [
       "<Figure size 432x288 with 1 Axes>"
      ]
     },
     "metadata": {
      "needs_background": "light"
     },
     "output_type": "display_data"
    }
   ],
   "source": [
    "#Compare to uniform\n",
    "hypos = np.arange(1, 1001)\n",
    "uniform = Pmf(1, hypos, name='uniform')\n",
    "uniform.normalize()\n",
    "\n",
    "#plot prior\n",
    "uniform.plot(color='C4')\n",
    "power.plot(color='C1')"
   ]
  },
  {
   "cell_type": "code",
   "execution_count": 13,
   "id": "3aefa099-a0b5-49f0-8a30-3672b2a8c20d",
   "metadata": {},
   "outputs": [
    {
     "data": {
      "text/plain": [
       "<AxesSubplot:>"
      ]
     },
     "execution_count": 13,
     "metadata": {},
     "output_type": "execute_result"
    },
    {
     "data": {
      "image/png": "[encoded data removed]",
      "text/plain": [
       "<Figure size 432x288 with 1 Axes>"
      ]
     },
     "metadata": {
      "needs_background": "light"
     },
     "output_type": "display_data"
    }
   ],
   "source": [
    "#update and plot posteriors\n",
    "dataset = [60]\n",
    "update_train(uniform, dataset)\n",
    "update_train(power, dataset)\n",
    "\n",
    "uniform.plot(color='C4')\n",
    "power.plot(color='C1')"
   ]
  },
  {
   "cell_type": "markdown",
   "id": "0ff89fbf-7165-47f9-b96e-ee545ae97c05",
   "metadata": {},
   "source": [
    "Power law gives less probability to higher values, thus lowering the posterior and sensitivity to the upper bound"
   ]
  },
  {
   "cell_type": "code",
   "execution_count": 14,
   "id": "7d1944fe-2176-4ccf-b1dd-82fa36298a9c",
   "metadata": {},
   "outputs": [
    {
     "data": {
      "text/html": [
       "<div>\n",
       "<style scoped>\n",
       "    .dataframe tbody tr th:only-of-type {\n",
       "        vertical-align: middle;\n",
       "    }\n",
       "\n",
       "    .dataframe tbody tr th {\n",
       "        vertical-align: top;\n",
       "    }\n",
       "\n",
       "    .dataframe thead th {\n",
       "        text-align: right;\n",
       "    }\n",
       "</style>\n",
       "<table border=\"1\" class=\"dataframe\">\n",
       "  <thead>\n",
       "    <tr style=\"text-align: right;\">\n",
       "      <th></th>\n",
       "      <th>Posterior mean</th>\n",
       "    </tr>\n",
       "    <tr>\n",
       "      <th>Upper bound</th>\n",
       "      <th></th>\n",
       "    </tr>\n",
       "  </thead>\n",
       "  <tbody>\n",
       "    <tr>\n",
       "      <th>500</th>\n",
       "      <td>130.708470</td>\n",
       "    </tr>\n",
       "    <tr>\n",
       "      <th>1000</th>\n",
       "      <td>133.275231</td>\n",
       "    </tr>\n",
       "    <tr>\n",
       "      <th>2000</th>\n",
       "      <td>133.997463</td>\n",
       "    </tr>\n",
       "  </tbody>\n",
       "</table>\n",
       "</div>"
      ],
      "text/plain": [
       "             Posterior mean\n",
       "Upper bound                \n",
       "500              130.708470\n",
       "1000             133.275231\n",
       "2000             133.997463"
      ]
     },
     "execution_count": 14,
     "metadata": {},
     "output_type": "execute_result"
    }
   ],
   "source": [
    "df = pd.DataFrame(columns=['Posterior mean'])\n",
    "df.index.name = 'Upper bound'\n",
    "\n",
    "alpha = 1.0\n",
    "dataset = [30, 60, 90]\n",
    "\n",
    "for high in [500, 1000, 2000]:\n",
    "    hypos = np.arange(1, high+1)\n",
    "    ps = hypos**(-alpha)\n",
    "    power = Pmf(ps, hypos)\n",
    "    for data in dataset:\n",
    "        update_train(power, data)\n",
    "    df.loc[high] = power.mean()\n",
    "    \n",
    "df"
   ]
  },
  {
   "cell_type": "markdown",
   "id": "2b15b182-05ba-4b9f-8ed0-3767bce2972a",
   "metadata": {},
   "source": [
    "Converges near 134.  This is more realistic, since it's based on something we know in reality."
   ]
  },
  {
   "cell_type": "markdown",
   "id": "24b201e3-5909-4396-a3a0-fbca6c3d4b13",
   "metadata": {},
   "source": [
    "# Credible intervals"
   ]
  },
  {
   "cell_type": "markdown",
   "id": "9ff45ddb-1b6b-4366-b5b1-9152e7378324",
   "metadata": {},
   "source": [
    "Previous examples gave two ways to summarize the posterior distribution\n",
    "- the value with highest posterior probability (MAP)\n",
    "- posterior mean\n",
    "These are both point estimates\n",
    "\n",
    "Another way to describe the distribution is with percentiles. \n",
    "Given value x, we can compute its percentile rank by finding all values less than or equal to x and adding their probabilities.  \n",
    "\n",
    "Pmf has a built in function to do that. \n",
    "Ex compute the probability a company has less than or equal to 100 trains."
   ]
  },
  {
   "cell_type": "code",
   "execution_count": 16,
   "id": "0bf76d31-a3b2-4744-b495-e67425cb5d02",
   "metadata": {},
   "outputs": [
    {
     "data": {
      "text/plain": [
       "0.2937469222495771"
      ]
     },
     "execution_count": 16,
     "metadata": {},
     "output_type": "execute_result"
    }
   ],
   "source": [
    "power.prob_le(100)"
   ]
  },
  {
   "cell_type": "markdown",
   "id": "e7ec37aa-ab57-4dc0-9725-aad49c984166",
   "metadata": {},
   "source": [
    "Following a power law distribution, 100 trains is the ~ 29th percentile. Can also go the other way, using percentiles of a distribution to identify the expected number."
   ]
  },
  {
   "cell_type": "code",
   "execution_count": 18,
   "id": "5705378b-582f-45cd-b434-1135080f372c",
   "metadata": {},
   "outputs": [
    {
     "data": {
      "text/plain": [
       "113"
      ]
     },
     "execution_count": 18,
     "metadata": {},
     "output_type": "execute_result"
    }
   ],
   "source": [
    "def quantile(pmf, prob):\n",
    "    \"\"\"Compute a quantile with the given prob.\"\"\"\n",
    "    total = 0\n",
    "    for q, p in pmf.items():\n",
    "        total += p\n",
    "        if total >= prob:\n",
    "            return q\n",
    "    return np.nan\n",
    "\n",
    "#run\n",
    "quantile(power, 0.5)"
   ]
  },
  {
   "cell_type": "code",
   "execution_count": 20,
   "id": "062ad6f6-663b-4897-8cd6-5ce6bc029cd6",
   "metadata": {},
   "outputs": [
    {
     "data": {
      "text/plain": [
       "array([ 91., 243.])"
      ]
     },
     "execution_count": 20,
     "metadata": {},
     "output_type": "execute_result"
    }
   ],
   "source": [
    "#Pmf has the same function\n",
    "#Can give list\n",
    "#Want the 0.5-0.95 interval\n",
    "power.quantile([0.05, 0.95])\n",
    "power.credible_interval(0.9)"
   ]
  },
  {
   "cell_type": "markdown",
   "id": "1262a218-d205-4260-a5aa-71728de390e7",
   "metadata": {},
   "source": [
    "## German tank problem\n",
    "During WWII British intellegence used statistical inference on the serial numbers of captured German equipment to estimate the total amount of equipment available.\n",
    "\n",
    "## Informative vs uninformative priors\n",
    "Two types of priors for bayesian statisticians\n",
    "1. Informative priors: the best prior given the background information. This is subjective, so different people may arrive at different \"informative priors\"\n",
    "2. Uninformative priors: rather than rely on background information, let the data speak for itself.  Maybe using some general distribution that fits. Generally seems more objective.\n",
    "\n",
    "With a lot of data, the choice of prior doesn't matter. With less data, having an informative prior can be helpful.  It's the author's opinion it's not valueable to keep the appearance of being objective when you could include useful information. "
   ]
  },
  {
   "cell_type": "markdown",
   "id": "13b50613-4b13-4db6-bcf6-80f905bbf3ff",
   "metadata": {},
   "source": [
    "# Exercises\n",
    "## Excercise 1: \n",
    ">Suppose you are giving a talk in a large lecture hall and the fire marshal interrupts because they think the audience exceeds 1200 people, which is the safe capacity of the room.\n",
    ">You think there are fewer then 1200 people, and you offer to prove it. It would take too long to count, so you try an experiment:\n",
    ">You ask how many people were born on May 11 and two people raise their hands.\n",
    "You ask how many were born on May 23 and 1 person raises their hand.\n",
    ">Finally, you ask how many were born on August 1, and no one raises their hand.\n",
    ">How many people are in the audience? What is the probability that there are more than 1200 people. Hint: Remember the binomial distribution."
   ]
  },
  {
   "cell_type": "code",
   "execution_count": 21,
   "id": "4f24fa50-28a7-415e-bbdc-4235d8843e9d",
   "metadata": {},
   "outputs": [
    {
     "data": {
      "text/plain": [
       "200"
      ]
     },
     "execution_count": 21,
     "metadata": {},
     "output_type": "execute_result"
    }
   ],
   "source": [
    "# Assume uniform prior from 1 to 2000\n",
    "hypothesis = np.arange(1, 2000, 10)\n",
    "prior = Pmf(1, hypothesis)\n",
    "prior.normalize()"
   ]
  },
  {
   "cell_type": "code",
   "execution_count": 27,
   "id": "2bd3ffb8-8e3a-4efb-bbe9-1054530463ca",
   "metadata": {},
   "outputs": [],
   "source": [
    "#identify probability distribution for each given birthday for the assumed (1-2000) range of people in the room\n",
    "from scipy.stats import binom\n",
    "\n",
    "likelihood1 = binom.pmf(2, hypothesis, 1/365)\n",
    "likelihood2 = binom.pmf(1, hypothesis, 1/365)\n",
    "likelihood3 = binom.pmf(0, hypothesis, 1/365)"
   ]
  },
  {
   "cell_type": "code",
   "execution_count": 28,
   "id": "05e1f1ca-7e33-4398-8072-1eb452191daf",
   "metadata": {},
   "outputs": [
    {
     "data": {
      "text/plain": [
       "0.006758799800451577"
      ]
     },
     "execution_count": 28,
     "metadata": {},
     "output_type": "execute_result"
    }
   ],
   "source": [
    "#update prior\n",
    "posterior = prior * likelihood1 * likelihood2 * likelihood3\n",
    "posterior.normalize()"
   ]
  },
  {
   "cell_type": "code",
   "execution_count": 29,
   "id": "a5e779e6-ef1c-4137-87bf-4beaa2ee81b3",
   "metadata": {},
   "outputs": [
    {
     "data": {
      "text/plain": [
       "<AxesSubplot:>"
      ]
     },
     "execution_count": 29,
     "metadata": {},
     "output_type": "execute_result"
    },
    {
     "data": {
      "image/png": "[encoded data removed]",
      "text/plain": [
       "<Figure size 432x288 with 1 Axes>"
      ]
     },
     "metadata": {
      "needs_background": "light"
     },
     "output_type": "display_data"
    }
   ],
   "source": [
    "#Plot distribution\n",
    "posterior.plot(color='C4', label='posterior')"
   ]
  },
  {
   "cell_type": "code",
   "execution_count": 33,
   "id": "c044a30c-b582-41c6-8994-cd4816905d79",
   "metadata": {},
   "outputs": [
    {
     "data": {
      "text/plain": [
       "0.011543092507705329"
      ]
     },
     "execution_count": 33,
     "metadata": {},
     "output_type": "execute_result"
    }
   ],
   "source": [
    "#Probability of being greater than 1200\n",
    "posterior.prob_gt(1200)"
   ]
  },
  {
   "cell_type": "markdown",
   "id": "e9629af5-6001-4d8d-861e-b0ed27e4e1bf",
   "metadata": {},
   "source": [
    "## Exercise 2\n",
    "Rabbits visit the author's garden and want to know how many different rabbits visit. Set up a camera to judge if they are the same rabbit.\n",
    "\n",
    "I have sometimes seen four rabbits at the same time, so I know there are at least that many. I would be surprised if there were more than 10. So, at least as a starting place, I think a uniform prior from 4 to 10 is reasonable.\n",
    "To keep things simple, let’s assume that all rabbits who visit my garden are equally likely to be caught by the camera trap in a given day. Let’s also assume it is guaranteed that the camera trap gets a picture every day.\n"
   ]
  },
  {
   "cell_type": "code",
   "execution_count": 34,
   "id": "2b3a2798-c50b-4e42-b593-48ec49059977",
   "metadata": {},
   "outputs": [],
   "source": [
    "#hypothesis between 4 and 10 rabits\n",
    "hypothesis = np.arange(4, 11)\n",
    "prior = Pmf(1, hypothesis )"
   ]
  },
  {
   "cell_type": "code",
   "execution_count": 36,
   "id": "49734437-72ad-48c7-8fe0-b4122feac735",
   "metadata": {},
   "outputs": [],
   "source": [
    "#probability that the rabbit is the same rabbit is 1/N\n",
    "#probability that a rabbit is different is (N-1)/N\n",
    "N = hypothesis \n",
    "likelihood = (N-1)/ N**2"
   ]
  },
  {
   "cell_type": "code",
   "execution_count": 37,
   "id": "32a0aad1-fc35-42ae-8b7d-536fe28ee7fb",
   "metadata": {},
   "outputs": [
    {
     "data": {
      "image/png": "[encoded data removed]",
      "text/plain": [
       "<Figure size 432x288 with 1 Axes>"
      ]
     },
     "metadata": {
      "needs_background": "light"
     },
     "output_type": "display_data"
    }
   ],
   "source": [
    "#update prior and plot\n",
    "posterior = prior * likelihood\n",
    "posterior.normalize()\n",
    "\n",
    "posterior.bar(alpha=0.7)\n",
    "\n",
    "#most likely 4 rabbits, with decreasing probability"
   ]
  },
  {
   "cell_type": "markdown",
   "id": "7fd47ca7-1d8b-414a-b977-e20200e81137",
   "metadata": {},
   "source": [
    "## Excercise 3\n",
    ">Suppose that in the criminal justice system, all prison sentences are either 1, 2, or 3 years, with an equal number of each. One day, you visit a prison and choose a prisoner at random. \n",
    "\n",
    ">What is the probability that they are serving a 3-year sentence? What is the average remaining sentence of the prisoners you observe?"
   ]
  },
  {
   "cell_type": "code",
   "execution_count": 43,
   "id": "2c524541-2595-4a1a-92ea-6bd9a5e5af40",
   "metadata": {},
   "outputs": [
    {
     "data": {
      "text/plain": [
       "1.1666666666666665"
      ]
     },
     "execution_count": 43,
     "metadata": {},
     "output_type": "execute_result"
    }
   ],
   "source": [
    "#assume equal probability\n",
    "hypothesis = np.arange(1,4)\n",
    "prior = Pmf(1/3, hypothesis)\n",
    "\n",
    "#odds of visiting any given prisoner is proportional to their sentence\n",
    "likelihood = hypothesis\n",
    "posterior = prior * likelihood\n",
    "posterior.normalize()\n",
    "\n",
    "#mean of distribution is the average length, divide by 2 for average remaining sentence\n",
    "posterior.mean()/2"
   ]
  },
  {
   "cell_type": "markdown",
   "id": "a40da1c6-e04a-4a41-933c-bc19c61c65fc",
   "metadata": {},
   "source": [
    "## Excerise 4: Siblings\n",
    "If I chose a random adult in the U.S., what is the probability that they have a sibling? To be precise, what is the probability that their mother has had at least one other child."
   ]
  },
  {
   "cell_type": "code",
   "execution_count": 44,
   "id": "4e6c46b0-df29-4460-a945-2ee7174482fc",
   "metadata": {},
   "outputs": [
    {
     "data": {
      "text/plain": [
       "([<matplotlib.axis.XTick at 0x7f8b10241e80>,\n",
       "  <matplotlib.axis.XTick at 0x7f8b10241e50>,\n",
       "  <matplotlib.axis.XTick at 0x7f8b4868d670>,\n",
       "  <matplotlib.axis.XTick at 0x7f8b487edd90>],\n",
       " [Text(1, 0, '1 child'),\n",
       "  Text(2, 0, '2 children'),\n",
       "  Text(3, 0, '3 children'),\n",
       "  Text(4, 0, '4+ children')])"
      ]
     },
     "execution_count": 44,
     "metadata": {},
     "output_type": "execute_result"
    },
    {
     "data": {
      "image/png": "[encoded data removed]",
      "text/plain": [
       "<Figure size 432x288 with 1 Axes>"
      ]
     },
     "metadata": {
      "needs_background": "light"
     },
     "output_type": "display_data"
    }
   ],
   "source": [
    "#Family sizes for mothers 40-44 in 2014\n",
    "import matplotlib.pyplot as plt\n",
    "\n",
    "qs = [1, 2, 3, 4]\n",
    "ps = [22, 41, 24, 14]\n",
    "prior = Pmf(ps, qs)\n",
    "prior.bar(alpha=0.7)\n",
    "\n",
    "plt.xticks(qs, ['1 child', '2 children', '3 children', '4+ children'])"
   ]
  },
  {
   "cell_type": "code",
   "execution_count": 45,
   "id": "c5166167-f3fe-495e-9f87-184e9a9402a9",
   "metadata": {},
   "outputs": [
    {
     "data": {
      "text/html": [
       "<div>\n",
       "<style scoped>\n",
       "    .dataframe tbody tr th:only-of-type {\n",
       "        vertical-align: middle;\n",
       "    }\n",
       "\n",
       "    .dataframe tbody tr th {\n",
       "        vertical-align: top;\n",
       "    }\n",
       "\n",
       "    .dataframe thead th {\n",
       "        text-align: right;\n",
       "    }\n",
       "</style>\n",
       "<table border=\"1\" class=\"dataframe\">\n",
       "  <thead>\n",
       "    <tr style=\"text-align: right;\">\n",
       "      <th></th>\n",
       "      <th>probs</th>\n",
       "    </tr>\n",
       "  </thead>\n",
       "  <tbody>\n",
       "    <tr>\n",
       "      <th>1</th>\n",
       "      <td>0.094828</td>\n",
       "    </tr>\n",
       "    <tr>\n",
       "      <th>2</th>\n",
       "      <td>0.353448</td>\n",
       "    </tr>\n",
       "    <tr>\n",
       "      <th>3</th>\n",
       "      <td>0.310345</td>\n",
       "    </tr>\n",
       "    <tr>\n",
       "      <th>4</th>\n",
       "      <td>0.241379</td>\n",
       "    </tr>\n",
       "  </tbody>\n",
       "</table>\n",
       "</div>"
      ],
      "text/plain": [
       "1    0.094828\n",
       "2    0.353448\n",
       "3    0.310345\n",
       "4    0.241379\n",
       "Name: , dtype: float64"
      ]
     },
     "execution_count": 45,
     "metadata": {},
     "output_type": "execute_result"
    }
   ],
   "source": [
    "#Randomly selected person more likely to come from bigger family\n",
    "likelihood = qs\n",
    "posterior = prior * likelihood\n",
    "posterior.normalize()\n",
    "posterior"
   ]
  },
  {
   "cell_type": "code",
   "execution_count": 46,
   "id": "87eb6b8e-6e2e-4a99-92f5-79479143d005",
   "metadata": {},
   "outputs": [
    {
     "data": {
      "text/plain": [
       "0.9051724137931034"
      ]
     },
     "execution_count": 46,
     "metadata": {},
     "output_type": "execute_result"
    }
   ],
   "source": [
    "#probability they have sibling = probability they did not come from a family w/ only one kid\n",
    "1 - posterior[1]\n"
   ]
  },
  {
   "cell_type": "markdown",
   "id": "d50a3b9e-de82-4b5b-9f43-49d520314d9a",
   "metadata": {},
   "source": [
    "## Excercise 6 Doomsday\n",
    ">Assume two types of societies can exist in the universe, short lived that produce 200 billion indivduals or long lived ones that generate 2000 billion individuals.  Given that 108 billion people are thought to have lived, which type of society are we more likely to belong to?"
   ]
  },
  {
   "cell_type": "code",
   "execution_count": 47,
   "id": "cfb46a6a-dbaf-47aa-84fd-2747b7fd3228",
   "metadata": {},
   "outputs": [],
   "source": [
    "hypothesis = [200, 2000]\n",
    "prior = Pmf(1, hypothesis)"
   ]
  },
  {
   "cell_type": "code",
   "execution_count": 48,
   "id": "78001f55-dda2-4709-9477-b1cb942f88ed",
   "metadata": {},
   "outputs": [
    {
     "data": {
      "text/html": [
       "<div>\n",
       "<style scoped>\n",
       "    .dataframe tbody tr th:only-of-type {\n",
       "        vertical-align: middle;\n",
       "    }\n",
       "\n",
       "    .dataframe tbody tr th {\n",
       "        vertical-align: top;\n",
       "    }\n",
       "\n",
       "    .dataframe thead th {\n",
       "        text-align: right;\n",
       "    }\n",
       "</style>\n",
       "<table border=\"1\" class=\"dataframe\">\n",
       "  <thead>\n",
       "    <tr style=\"text-align: right;\">\n",
       "      <th></th>\n",
       "      <th>probs</th>\n",
       "    </tr>\n",
       "  </thead>\n",
       "  <tbody>\n",
       "    <tr>\n",
       "      <th>200</th>\n",
       "      <td>0.909091</td>\n",
       "    </tr>\n",
       "    <tr>\n",
       "      <th>2000</th>\n",
       "      <td>0.090909</td>\n",
       "    </tr>\n",
       "  </tbody>\n",
       "</table>\n",
       "</div>"
      ],
      "text/plain": [
       "200     0.909091\n",
       "2000    0.090909\n",
       "Name: , dtype: float64"
      ]
     },
     "execution_count": 48,
     "metadata": {},
     "output_type": "execute_result"
    }
   ],
   "source": [
    "likelihood = 1/prior.qs\n",
    "posterior = prior * likelihood\n",
    "posterior.normalize()\n",
    "posterior"
   ]
  },
  {
   "cell_type": "markdown",
   "id": "4fedf022-2abf-4f00-b541-babc55a3f692",
   "metadata": {},
   "source": [
    "Based on this prior, most likely short lived. That two classes of society could exists and would be these sizes seems dubious.  "
   ]
  },
  {
   "cell_type": "code",
   "execution_count": null,
   "id": "e405f850-b460-4db6-a5a1-831592f8c045",
   "metadata": {},
   "outputs": [],
   "source": []
  }
 ],
 "metadata": {
  "kernelspec": {
   "display_name": "Python 3 (ipykernel)",
   "language": "python",
   "name": "python3"
  },
  "language_info": {
   "codemirror_mode": {
    "name": "ipython",
    "version": 3
   },
   "file_extension": ".py",
   "mimetype": "text/x-python",
   "name": "python",
   "nbconvert_exporter": "python",
   "pygments_lexer": "ipython3",
   "version": "3.9.7"
  }
 },
 "nbformat": 4,
 "nbformat_minor": 5
}
