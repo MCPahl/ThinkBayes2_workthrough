{
 "cells": [
  {
   "cell_type": "markdown",
   "id": "f7604900-c10d-4d66-9b9e-af9b73c4f911",
   "metadata": {},
   "source": [
    "# Poisson Processes\n",
    "\n",
    "Poisson process, model to describe events happening in random intervals. \n",
    "\n",
    "Example process is scoring goals in soccer"
   ]
  },
  {
   "cell_type": "markdown",
   "id": "400436d0-a601-41a2-96da-af87e1aae671",
   "metadata": {},
   "source": [
    "## World cup problem\n",
    "2018 FIFA world cup, France defeated Croatia 4 to 2. Based on this:\n",
    "\n",
    "1. How confident are we that France is the better team?\n",
    "2. If the same teams played again, what is the odds France wins again?\n",
    "\n",
    "Modeling assumptions:\n",
    "- For any team to score against other team, there is some unknown goal scoring rate, lambda (lam)\n",
    "- A goal is equally likely in any 1 minute of a game. So probability of scoring in any minute is lam/90.\n",
    "- Assume the same team does not score twice in the same minute\n",
    "\n",
    "None of the assumptions are fully true, but for soccer these assumptions are roughly true."
   ]
  },
  {
   "cell_type": "markdown",
   "id": "0110f48d-c32b-48b0-9ec3-6f82a8281f59",
   "metadata": {},
   "source": [
    "## Poisson Distribution\n",
    "\n",
    "The poisson distribution formula for scoring k goals\n",
    "> lam^k * exp(-lam) / k!\n",
    "\n",
    "Scipy has a built in function poisson to help"
   ]
  },
  {
   "cell_type": "code",
   "execution_count": 1,
   "id": "5b32b93e-b8ec-43fb-a80d-5c67e0a6913f",
   "metadata": {},
   "outputs": [
    {
     "data": {
      "text/plain": [
       "scipy.stats._distn_infrastructure.rv_frozen"
      ]
     },
     "execution_count": 1,
     "metadata": {},
     "output_type": "execute_result"
    }
   ],
   "source": [
    "from scipy.stats import poisson\n",
    "lam = 1.4\n",
    "dist = poisson(lam)\n",
    "type(dist)"
   ]
  },
  {
   "cell_type": "code",
   "execution_count": 2,
   "id": "df70eba3-f78b-44ab-aa18-4841b46d8f71",
   "metadata": {},
   "outputs": [
    {
     "data": {
      "text/plain": [
       "0.039471954028253146"
      ]
     },
     "execution_count": 2,
     "metadata": {},
     "output_type": "execute_result"
    }
   ],
   "source": [
    "#Object represents a frozen random variable and provides a pmf that can be evaluated\n",
    "k = 4\n",
    "dist.pmf(k)\n",
    "\n",
    "#probability of scoring 4 goals in a game is ~4%"
   ]
  },
  {
   "cell_type": "code",
   "execution_count": 3,
   "id": "8ebb473b-eb2d-4809-91fb-b6d9611b09e5",
   "metadata": {},
   "outputs": [],
   "source": [
    "#convert to pmf\n",
    "from empiricaldist import Pmf\n",
    "def make_poisson_pmf(lam, qs):\n",
    "    \"\"\"Make a Pmf of a Poisson distribution.\"\"\"\n",
    "    ps = poisson(lam).pmf(qs)\n",
    "    pmf = Pmf(ps, qs)\n",
    "    pmf.normalize()\n",
    "    return pmf"
   ]
  },
  {
   "cell_type": "code",
   "execution_count": 4,
   "id": "8e2afbcd-4f9b-4862-a453-64b15ff33428",
   "metadata": {},
   "outputs": [
    {
     "data": {
      "image/png": "[encoded data removed]",
      "text/plain": [
       "<Figure size 432x288 with 1 Axes>"
      ]
     },
     "metadata": {
      "needs_background": "light"
     },
     "output_type": "display_data"
    }
   ],
   "source": [
    "import numpy as np\n",
    "\n",
    "lam = 1.4\n",
    "goals = np.arange(10)\n",
    "pmf_goals = make_poisson_pmf(lam, goals)\n",
    "pmf_goals.bar(label=r'Poisson distribution with $\\lambda=1.4$')"
   ]
  },
  {
   "cell_type": "markdown",
   "id": "abb1bcf9-a136-4ec5-bf77-089d62d1d849",
   "metadata": {},
   "source": [
    "Most likely outcome are 0, 1, 2, with higher values having lower chance.  Given goal scoring rate, we can predict the number of goals.\n",
    "\n",
    "For the reverse, if we are given a number of goals, what can we say about the goal scoring rate?\n",
    "\n",
    "Need to think about the prior distribution of lam, which is the range of values and probabilities before seeing the score."
   ]
  },
  {
   "cell_type": "markdown",
   "id": "6a16c3eb-f4a8-48ba-8d7f-dfcf39fdd8a4",
   "metadata": {},
   "source": [
    "## The Gamma Distribution\n",
    "\n",
    "Soccer gives you some info for the distribution of lam.  Most games, teams score a few goals, with more than 5 being rare, and more than 10 being almost never.  lam = 1.4 was selected based on prior world cup scores.\n",
    "\n",
    "We expect better teams to have to have better lam against worse teams and vice versa.\n",
    "\n",
    "> To model the distribution of scores, we use the gamma distribution because\n",
    "- Goal scoring rate is continuous and non negative (matching type of data appropriate for gamma distribution)\n",
    "- Gamma distribution has one parameter\n",
    "- Gamma distribution shape is reasonable given what we know about soccer\n",
    "\n",
    "Gamma distribution is provided by scipy. gamma uses pdf object, which are the probability density functions."
   ]
  },
  {
   "cell_type": "code",
   "execution_count": 5,
   "id": "9bfcaa4d-5674-48d1-942f-97dbd08088ba",
   "metadata": {},
   "outputs": [],
   "source": [
    "#gamma distribution with alpha parameter set to 1.4\n",
    "from scipy.stats import gamma\n",
    "\n",
    "alpha = 1.4\n",
    "qs = np.linspace(0, 10, 101)\n",
    "ps = gamma(alpha).pdf(qs)"
   ]
  },
  {
   "cell_type": "code",
   "execution_count": 8,
   "id": "3774c64e-b7e9-4e68-8bcc-24ff03ce92ca",
   "metadata": {},
   "outputs": [
    {
     "data": {
      "text/plain": [
       "1.0"
      ]
     },
     "execution_count": 8,
     "metadata": {},
     "output_type": "execute_result"
    }
   ],
   "source": [
    "#Convert to Pmf\n",
    "from empiricaldist import Pmf\n",
    "\n",
    "prior = Pmf(ps, qs)\n",
    "prior.normalize()"
   ]
  },
  {
   "cell_type": "code",
   "execution_count": 7,
   "id": "5d2a2424-3c42-41cc-b422-7a1590d0c6d2",
   "metadata": {},
   "outputs": [
    {
     "data": {
      "text/plain": [
       "<AxesSubplot:>"
      ]
     },
     "execution_count": 7,
     "metadata": {},
     "output_type": "execute_result"
    },
    {
     "data": {
      "image/png": "[encoded data removed]",
      "text/plain": [
       "<Figure size 432x288 with 1 Axes>"
      ]
     },
     "metadata": {
      "needs_background": "light"
     },
     "output_type": "display_data"
    }
   ],
   "source": [
    "#plot\n",
    "prior.plot(ls='--', label='prior', color='C5')"
   ]
  },
  {
   "cell_type": "markdown",
   "id": "1ee7489b-ebb7-492b-82a7-c0a14df8372a",
   "metadata": {},
   "source": [
    "The distribution represents our prior knowledge about goal scoring: lam is usually less than 2, and rarely over 6.  People can disagree about details. The mean is near the 1.4 value."
   ]
  },
  {
   "cell_type": "code",
   "execution_count": 10,
   "id": "c3abeabc-98ca-43ee-b576-95d65ad52ef5",
   "metadata": {},
   "outputs": [
    {
     "data": {
      "text/plain": [
       "1.4140818156118378"
      ]
     },
     "execution_count": 10,
     "metadata": {},
     "output_type": "execute_result"
    }
   ],
   "source": [
    "prior.mean()"
   ]
  },
  {
   "cell_type": "markdown",
   "id": "cb0ac0a2-4779-4f0a-b2a8-5582d132983a",
   "metadata": {},
   "source": [
    "## Update\n",
    "\n",
    "Given the rate parameter(lam), calculate probability of scoring a particular number of goals.\n"
   ]
  },
  {
   "cell_type": "code",
   "execution_count": 11,
   "id": "e844c5a3-eba7-49b2-88ed-f73a1cfb95b4",
   "metadata": {},
   "outputs": [
    {
     "data": {
      "text/plain": [
       "0.039471954028253146"
      ]
     },
     "execution_count": 11,
     "metadata": {},
     "output_type": "execute_result"
    }
   ],
   "source": [
    "#goals\n",
    "lam = 1.4\n",
    "k = 4\n",
    "poisson(lam).pmf(4)"
   ]
  },
  {
   "cell_type": "code",
   "execution_count": 12,
   "id": "772ac936-ce48-4efc-972f-0a93b0e35f74",
   "metadata": {},
   "outputs": [],
   "source": [
    "#For array of possible lams\n",
    "lams = prior.qs\n",
    "k = 4\n",
    "likelihood = poisson(lams).pmf(k)"
   ]
  },
  {
   "cell_type": "markdown",
   "id": "50902dd6-a5a4-4c08-a1cc-c597f115afd5",
   "metadata": {},
   "source": [
    "To update and get the posterior distribution.  Multiply priors likelihood then normalize the results."
   ]
  },
  {
   "cell_type": "code",
   "execution_count": 13,
   "id": "7bc80d75-90ab-40e6-be9d-cf56802f2ac2",
   "metadata": {},
   "outputs": [],
   "source": [
    "def update_poisson(pmf, data):\n",
    "    \"\"\"Update Pmf with a Poisson likelihood.\"\"\"\n",
    "    k = data\n",
    "    lams = pmf.qs\n",
    "    likelihood = poisson(lams).pmf(k)\n",
    "    pmf *= likelihood\n",
    "    pmf.normalize()"
   ]
  },
  {
   "cell_type": "markdown",
   "id": "715b7f05-705b-4bea-9d5e-efd31fd35235",
   "metadata": {},
   "source": [
    "pmf is the prior, and data is the number of goals.\n",
    "\n",
    "If france score 4 goals"
   ]
  },
  {
   "cell_type": "code",
   "execution_count": 14,
   "id": "48aa59ac-dda6-45a3-88c7-38abb06c718a",
   "metadata": {},
   "outputs": [],
   "source": [
    "france = prior.copy()\n",
    "update_poisson(france, 4)"
   ]
  },
  {
   "cell_type": "code",
   "execution_count": 15,
   "id": "bdfb45fa-a710-469f-903f-80f39d849510",
   "metadata": {},
   "outputs": [
    {
     "data": {
      "text/plain": [
       "<AxesSubplot:>"
      ]
     },
     "execution_count": 15,
     "metadata": {},
     "output_type": "execute_result"
    },
    {
     "data": {
      "image/png": "[encoded data removed]",
      "text/plain": [
       "<Figure size 432x288 with 1 Axes>"
      ]
     },
     "metadata": {
      "needs_background": "light"
     },
     "output_type": "display_data"
    }
   ],
   "source": [
    "prior.plot(ls='--', label='prior', color='C5')\n",
    "france.plot(label='France posterior', color='C3')\n"
   ]
  },
  {
   "cell_type": "markdown",
   "id": "96412596-849b-42ab-900d-cdd0e1ab0cc9",
   "metadata": {},
   "source": [
    "The data points towards the value of lam being higher is more likely, and lower values are less likely, so the distribution shifts to the right."
   ]
  },
  {
   "cell_type": "code",
   "execution_count": 17,
   "id": "eeecc678-32c7-457c-8ae9-15b4b2373164",
   "metadata": {},
   "outputs": [
    {
     "data": {
      "text/plain": [
       "<AxesSubplot:>"
      ]
     },
     "execution_count": 17,
     "metadata": {},
     "output_type": "execute_result"
    },
    {
     "data": {
      "image/png": "[encoded data removed]",
      "text/plain": [
       "<Figure size 432x288 with 1 Axes>"
      ]
     },
     "metadata": {
      "needs_background": "light"
     },
     "output_type": "display_data"
    }
   ],
   "source": [
    "#same for croatia\n",
    "croatia = prior.copy()\n",
    "update_poisson(croatia, 2)\n",
    "prior.plot(ls='--', label='prior', color='C5')\n",
    "croatia.plot(label='Croatia posterior', color='C0')"
   ]
  },
  {
   "cell_type": "code",
   "execution_count": 18,
   "id": "175383b4-3e57-4bb9-bbc4-b8aa69a38413",
   "metadata": {},
   "outputs": [
    {
     "name": "stdout",
     "output_type": "stream",
     "text": [
      "1.6999765866755225 2.699772393342308\n"
     ]
    }
   ],
   "source": [
    "#print mean distribution\n",
    "print(croatia.mean(), france.mean())\n"
   ]
  },
  {
   "cell_type": "markdown",
   "id": "5e3d1242-7444-4107-8f2b-920188087a4a",
   "metadata": {},
   "source": [
    "## Probability of superiority\n",
    "\n",
    "How confident can we be that france is the better team?\n",
    "\n",
    "What are the odds that a random value pulled from France's distribution will exceed that of Croatia?\n"
   ]
  },
  {
   "cell_type": "code",
   "execution_count": 19,
   "id": "4c1539fb-b800-47b3-8dbe-f2a9807b6ca1",
   "metadata": {},
   "outputs": [],
   "source": [
    "#Enumerate all values from the distribution then sum the total probability that one value exceeds the other\n",
    "def prob_gt(pmf1, pmf2):\n",
    "    \"\"\"Compute the probability of superiority.\"\"\"\n",
    "    total = 0\n",
    "    for q1, p1 in pmf1.items():\n",
    "        for q2, p2 in pmf2.items():\n",
    "            if q1 > q2:\n",
    "                total += p1 * p2\n",
    "    return total"
   ]
  },
  {
   "cell_type": "code",
   "execution_count": 20,
   "id": "5d055bb1-ca23-42da-b7b7-b9c1104b8ccf",
   "metadata": {},
   "outputs": [
    {
     "data": {
      "text/plain": [
       "0.7499366290930155"
      ]
     },
     "execution_count": 20,
     "metadata": {},
     "output_type": "execute_result"
    }
   ],
   "source": [
    "prob_gt(france, croatia)"
   ]
  },
  {
   "cell_type": "code",
   "execution_count": 21,
   "id": "44941a20-c264-4014-81d7-e965cb242c38",
   "metadata": {},
   "outputs": [
    {
     "data": {
      "text/plain": [
       "0.7499366290930174"
      ]
     },
     "execution_count": 21,
     "metadata": {},
     "output_type": "execute_result"
    }
   ],
   "source": [
    "#use PMF function\n",
    "Pmf.prob_gt(france, croatia)"
   ]
  },
  {
   "cell_type": "markdown",
   "id": "d0ae7e68-3724-4c11-a72f-fcf332fa27c0",
   "metadata": {},
   "source": [
    "Both around 75% (difference due to array vs loop arthimatic).  Moderate confidence that Frances has higher score. However, assumptions may be violated, goal-scoring rate being constant. Teams may play more aggressively toward the end of the game or may be more lax.  "
   ]
  },
  {
   "cell_type": "markdown",
   "id": "1cdd4fa5-ba5e-4083-8735-f9153605ef07",
   "metadata": {},
   "source": [
    "# Predict a rematch\n",
    "\n",
    "If the same teams played again, what are Croatia's chances of winning?  Need to generate a posterior predictive distribution (number of goals expect to score).\n",
    "\n",
    "See what a few different values of lam look like"
   ]
  },
  {
   "cell_type": "code",
   "execution_count": 23,
   "id": "22de2342-ef17-444a-9a78-5a084c456ddc",
   "metadata": {},
   "outputs": [],
   "source": [
    "pmf_seq = [make_poisson_pmf(lam, goals)\n",
    "            for lam in prior.qs]"
   ]
  },
  {
   "cell_type": "code",
   "execution_count": 27,
   "id": "cbde54df-8c65-4f4d-b9c0-be3fd14c1132",
   "metadata": {},
   "outputs": [
    {
     "data": {
      "image/png": "[encoded data removed]",
      "text/plain": [
       "<Figure size 432x288 with 4 Axes>"
      ]
     },
     "metadata": {
      "needs_background": "light"
     },
     "output_type": "display_data"
    }
   ],
   "source": [
    "import matplotlib.pyplot as plt\n",
    "\n",
    "for i, index in enumerate([10, 20, 30, 40]):\n",
    "    plt.subplot(2, 2, i+1)\n",
    "    lam = prior.qs[index]\n",
    "    pmf = pmf_seq[index]\n",
    "    pmf.bar(label=f'$\\lambda$ = {lam}', color='C3')\n",
    "    plt.legend()"
   ]
  },
  {
   "cell_type": "markdown",
   "id": "1b4a5427-985e-4e86-8520-d67a632bc19c",
   "metadata": {},
   "source": [
    "The predictive distribution is a mixture of these distributions, weighted with posterior probabilities.  "
   ]
  },
  {
   "cell_type": "code",
   "execution_count": 30,
   "id": "9783510f-2498-484f-b06f-54a853e05a80",
   "metadata": {},
   "outputs": [],
   "source": [
    "#from last chapter\n",
    "import pandas as pd\n",
    "\n",
    "def make_mixture(pmf, pmf_seq):\n",
    "    \"\"\"Make a mixture of distributions.\"\"\"\n",
    "    df = pd.DataFrame(pmf_seq).fillna(0).transpose()\n",
    "    df *= np.array(pmf)\n",
    "    total = df.sum(axis=1)\n",
    "    return Pmf(total)"
   ]
  },
  {
   "cell_type": "code",
   "execution_count": 33,
   "id": "aee69e2a-f207-4fc0-b01b-d83d00390d85",
   "metadata": {},
   "outputs": [
    {
     "data": {
      "text/plain": [
       "<matplotlib.legend.Legend at 0x7feedb7a7580>"
      ]
     },
     "execution_count": 33,
     "metadata": {},
     "output_type": "execute_result"
    },
    {
     "data": {
      "image/png": "[encoded data removed]",
      "text/plain": [
       "<Figure size 432x288 with 1 Axes>"
      ]
     },
     "metadata": {
      "needs_background": "light"
     },
     "output_type": "display_data"
    }
   ],
   "source": [
    "pred_france = make_mixture(france, pmf_seq)\n",
    "pred_france.bar(color='C3', label='France')\n",
    "plt.legend()"
   ]
  },
  {
   "cell_type": "code",
   "execution_count": 42,
   "id": "cb0c0587-fc8a-49b4-b267-e39bf1400d1b",
   "metadata": {},
   "outputs": [
    {
     "data": {
      "text/plain": [
       "<matplotlib.legend.Legend at 0x7feedb7f22b0>"
      ]
     },
     "execution_count": 42,
     "metadata": {},
     "output_type": "execute_result"
    },
    {
     "data": {
      "image/png": "[encoded data removed]",
      "text/plain": [
       "<Figure size 432x288 with 1 Axes>"
      ]
     },
     "metadata": {
      "needs_background": "light"
     },
     "output_type": "display_data"
    }
   ],
   "source": [
    "pred_croatia = make_mixture(croatia, pmf_seq)\n",
    "pred_croatia.bar(color='C0', label='Croatia')\n",
    "plt.legend()"
   ]
  },
  {
   "cell_type": "code",
   "execution_count": 44,
   "id": "53d38fd6-378b-4bae-bb4f-a1d7a17aa1fe",
   "metadata": {},
   "outputs": [
    {
     "data": {
      "text/plain": [
       "0.5703522415934519"
      ]
     },
     "execution_count": 44,
     "metadata": {},
     "output_type": "execute_result"
    }
   ],
   "source": [
    "#check odds France wins\n",
    "win = Pmf.prob_gt(pred_france, pred_croatia)\n",
    "win"
   ]
  },
  {
   "cell_type": "code",
   "execution_count": 45,
   "id": "9574c90c-49c1-4acb-8ed7-f55db3910c5b",
   "metadata": {},
   "outputs": [
    {
     "data": {
      "text/plain": [
       "0.26443376257235873"
      ]
     },
     "execution_count": 45,
     "metadata": {},
     "output_type": "execute_result"
    }
   ],
   "source": [
    "#Check probabilities France loses\n",
    "lose = Pmf.prob_lt(pred_france, pred_croatia)\n",
    "lose"
   ]
  },
  {
   "cell_type": "code",
   "execution_count": 46,
   "id": "f9bf59e9-d14f-449b-a173-0092774f7dad",
   "metadata": {},
   "outputs": [
    {
     "data": {
      "text/plain": [
       "0.16521399583418947"
      ]
     },
     "execution_count": 46,
     "metadata": {},
     "output_type": "execute_result"
    }
   ],
   "source": [
    "#Check probs France ties\n",
    "tie = Pmf.prob_eq(pred_france, pred_croatia)\n",
    "tie"
   ]
  },
  {
   "cell_type": "code",
   "execution_count": 47,
   "id": "728c3531-bef5-4221-8dc2-a175758b5df0",
   "metadata": {},
   "outputs": [
    {
     "data": {
      "text/plain": [
       "0.6529592395105466"
      ]
     },
     "execution_count": 47,
     "metadata": {},
     "output_type": "execute_result"
    }
   ],
   "source": [
    "#If france wins half the ties\n",
    "win + tie/2"
   ]
  },
  {
   "cell_type": "markdown",
   "id": "da2dbb94-2ac7-4b16-aa87-e4072629eae7",
   "metadata": {},
   "source": [
    "Lower prob than prob for superiority, less confident in the outcome of one game compared to the general goal scoring rates."
   ]
  },
  {
   "cell_type": "markdown",
   "id": "153331d6-b8cc-4f42-a242-5b8d934f70c8",
   "metadata": {},
   "source": [
    "# Exponential Distrobution\n",
    "\n",
    "Problem \n",
    "> 2014 world cup, Germany vs Brazil\n",
    ">Germany scored after 11 minutes and again at 23 minutes, at that point in the match, how many goals do you expect Germany to score after 90 minutes. What was the probability that they would score 5 more goals (which happened)\n",
    "\n"
   ]
  },
  {
   "cell_type": "markdown",
   "id": "bb27db38-d03a-4d6c-950a-35b51126552f",
   "metadata": {},
   "source": [
    "In this problem, the data is not the number of goals in a fixed period of time, but the time between goals being scored.\n",
    "\n",
    "To compute this likelihood, can use Poisson processes again. \n",
    "> If each team has a constant goal scoring rate, then we expect time between goals to follow an exponetial distribution. With rate lamda, probability of seeing an interval between occurances of t is propoortional to the PDF of the exponential distribution. \n",
    "\n",
    "- lam * exp (-lam * t)\n",
    "\n",
    "> t is continous, so the value is not a probability, but a probability density, which is proporitional to the probability, so it can still be used in bayesian updates.\n",
    "\n",
    "Scipy has a function called expon, that creates an object with exponetial distribution.  It doesn't take lam as a parameter, so need to modify."
   ]
  },
  {
   "cell_type": "code",
   "execution_count": 48,
   "id": "66928c98-4771-411b-9a68-6f5097df02da",
   "metadata": {},
   "outputs": [],
   "source": [
    "def expo_pdf(t, lam):\n",
    "    \"\"\"Compute the PDF of the exponential distribution.\"\"\"\n",
    "    return lam * np.exp(-lam * t)"
   ]
  },
  {
   "cell_type": "code",
   "execution_count": 51,
   "id": "da5f3546-f7a1-460d-8144-2c3bbfbccddf",
   "metadata": {},
   "outputs": [
    {
     "data": {
      "text/plain": [
       "25.616650745459093"
      ]
     },
     "execution_count": 51,
     "metadata": {},
     "output_type": "execute_result"
    }
   ],
   "source": [
    "#distribution with  lam = 1.4\n",
    "lam = 1.4\n",
    "qs = np.linspace(0, 4, 101)\n",
    "ps = expo_pdf(qs, lam)\n",
    "pmf_time = Pmf(ps, qs)\n",
    "pmf_time.normalize()"
   ]
  },
  {
   "cell_type": "code",
   "execution_count": 53,
   "id": "04c5406e-e9de-4ac0-9919-593d913061f3",
   "metadata": {},
   "outputs": [
    {
     "data": {
      "text/plain": [
       "<matplotlib.legend.Legend at 0x7feee83aee50>"
      ]
     },
     "execution_count": 53,
     "metadata": {},
     "output_type": "execute_result"
    },
    {
     "data": {
      "image/png": "[encoded data removed]",
      "text/plain": [
       "<Figure size 432x288 with 1 Axes>"
      ]
     },
     "metadata": {
      "needs_background": "light"
     },
     "output_type": "display_data"
    }
   ],
   "source": [
    "pmf_time.plot(label='exponential with $\\lambda$ = 1.4')\n",
    "plt.legend()"
   ]
  },
  {
   "cell_type": "markdown",
   "id": "2b95200b-9a0e-4aba-9b84-7318ecae3478",
   "metadata": {},
   "source": [
    "The most likely time to score a goal is immediately, and it decreases with time"
   ]
  },
  {
   "cell_type": "markdown",
   "id": "f386dab6-fa79-4cc3-b657-594025ad1525",
   "metadata": {},
   "source": [
    "# Excercises\n",
    "### Excercise 1\n",
    "Finish Germany vs Brazil world cup\n",
    "Hints: \n",
    "1. Using gamma prior compute likelihood of scoring a goal after 11 min for each value of lam\n",
    "2. Compute posterior distribution of lam for Germany after first goal\n",
    "3. Compute likelihood of scoring another goal after 12 more minutes\n",
    "4. Compute posterior predictive distribution of goals\n",
    "5. Compute probability of scoring 5 or more gals in the remaining time\n"
   ]
  },
  {
   "cell_type": "code",
   "execution_count": 54,
   "id": "ac9bfecd-e423-45ba-a960-3ca5078c5049",
   "metadata": {},
   "outputs": [],
   "source": [
    "def update_expo(pmf, data):\n",
    "    \"\"\"Update based on an observed interval\n",
    "    pmf: prior PMF\n",
    "    data: time between goals in minutes\n",
    "    \"\"\"\n",
    "    t = data / 90\n",
    "    lams = pmf.qs\n",
    "    likelihood = expo_pdf(t, lams)\n",
    "    pmf *= likelihood\n",
    "    pmf.normalize()"
   ]
  },
  {
   "cell_type": "code",
   "execution_count": 55,
   "id": "eb3441e7-407d-434e-9539-378da95cce91",
   "metadata": {},
   "outputs": [],
   "source": [
    "#update 1st and 2nd goal for germany\n",
    "germany = prior.copy()\n",
    "update_expo(germany, 11)\n",
    "germany2 = germany.copy()\n",
    "update_expo(germany2, 12)"
   ]
  },
  {
   "cell_type": "code",
   "execution_count": 56,
   "id": "10d0faea-bb6b-458b-8e50-4fa0e4a282d7",
   "metadata": {},
   "outputs": [
    {
     "data": {
      "text/plain": [
       "(2.1358882653086892, 2.703059034926364)"
      ]
     },
     "execution_count": 56,
     "metadata": {},
     "output_type": "execute_result"
    }
   ],
   "source": [
    "#Mean values of lam after each update\n",
    "germany.mean(), germany2.mean()\n"
   ]
  },
  {
   "cell_type": "code",
   "execution_count": 58,
   "id": "2a1c8bc0-c8fd-4fcc-8cc4-91397e9efd18",
   "metadata": {},
   "outputs": [
    {
     "data": {
      "text/plain": [
       "Text(0.5, 1.0, 'Prior and Posterior distributions')"
      ]
     },
     "execution_count": 58,
     "metadata": {},
     "output_type": "execute_result"
    },
    {
     "data": {
      "image/png": "[encoded data removed]",
      "text/plain": [
       "<Figure size 432x288 with 1 Axes>"
      ]
     },
     "metadata": {
      "needs_background": "light"
     },
     "output_type": "display_data"
    }
   ],
   "source": [
    "#Plot distrubtions after each update \n",
    "prior.plot(ls='--', label='prior', color='C5')\n",
    "germany.plot(color='C3', label='Posterior after 1 goal')\n",
    "germany2.plot(color='C16', label='Posterior after 2 goals')\n",
    "plt.legend()\n",
    "plt.title(\"Prior and Posterior distributions\")"
   ]
  },
  {
   "cell_type": "code",
   "execution_count": 60,
   "id": "7f1e8368-94a8-4b2b-a40a-1f9156faa648",
   "metadata": {},
   "outputs": [],
   "source": [
    "#Predictive distribution for each value of lam\n",
    "t = (90-23) / 90\n",
    "pmf_seq = [make_poisson_pmf(lam * t, goals)\n",
    "           for lam in germany2.qs]"
   ]
  },
  {
   "cell_type": "code",
   "execution_count": 63,
   "id": "7bd9e33b-a3d7-44ad-a608-7902e3da9654",
   "metadata": {},
   "outputs": [
    {
     "data": {
      "text/plain": [
       "Text(0.5, 1.0, 'Posterior predictive distribution')"
      ]
     },
     "execution_count": 63,
     "metadata": {},
     "output_type": "execute_result"
    },
    {
     "data": {
      "image/png": "[encoded data removed]",
      "text/plain": [
       "<Figure size 432x288 with 1 Axes>"
      ]
     },
     "metadata": {
      "needs_background": "light"
     },
     "output_type": "display_data"
    }
   ],
   "source": [
    "#Mixture of predictive distributions\n",
    "pred_germany2 = make_mixture(germany2, pmf_seq)\n",
    "pred_germany2.bar(color='C1', label='germany')\n",
    "plt.legend()\n",
    "plt.title('Posterior predictive distribution')"
   ]
  },
  {
   "cell_type": "code",
   "execution_count": 68,
   "id": "ab8044bf-73ae-4006-ae2c-911c95fb4033",
   "metadata": {},
   "outputs": [
    {
     "data": {
      "text/plain": [
       "0.047109658706113416"
      ]
     },
     "execution_count": 68,
     "metadata": {},
     "output_type": "execute_result"
    }
   ],
   "source": [
    "#Probs of Germany getting 5 more goals\n",
    "pred_germany2[5]"
   ]
  },
  {
   "cell_type": "code",
   "execution_count": 69,
   "id": "4e508c38-57fa-45ae-a7ba-c2bb6039a4b9",
   "metadata": {},
   "outputs": [
    {
     "data": {
      "text/plain": [
       "0.09286200122834538"
      ]
     },
     "execution_count": 69,
     "metadata": {},
     "output_type": "execute_result"
    }
   ],
   "source": [
    "#Prob greater than or equal to 5\n",
    "pred_germany2.prob_ge(5)"
   ]
  },
  {
   "cell_type": "markdown",
   "id": "ad2d8f13-c39c-4fb3-9f7a-a0e856819e44",
   "metadata": {},
   "source": [
    "### Exercise 2\n",
    "Suppose France and Croatia have a rematch, what is the probability that France scores first?"
   ]
  },
  {
   "cell_type": "code",
   "execution_count": 70,
   "id": "c6d8a434-298c-4b95-bfc1-9dbdfeb034bb",
   "metadata": {},
   "outputs": [],
   "source": [
    "#pmf predictive distribution\n",
    "def make_expo_pmf(lam, high):\n",
    "    qs = np.linspace(0, high, 101)\n",
    "    ps = expo_pdf(qs, lam)\n",
    "    pmf = Pmf(ps, qs)\n",
    "    pmf.normalize()\n",
    "    return pmf"
   ]
  },
  {
   "cell_type": "code",
   "execution_count": 71,
   "id": "f1174b96-9e6c-4bd1-bdea-e42957406f12",
   "metadata": {},
   "outputs": [],
   "source": [
    "#predictive distribution for time to first goal\n",
    "pmf_seq = [make_expo_pmf(lam, high=4) for lam in prior.qs]\n"
   ]
  },
  {
   "cell_type": "code",
   "execution_count": 72,
   "id": "6e2b9ac5-b200-476f-a39b-f11996f9db0a",
   "metadata": {},
   "outputs": [],
   "source": [
    "#make distribution for two posterior\n",
    "pred_france = make_mixture(france, pmf_seq)\n",
    "pred_croatia = make_mixture(croatia, pmf_seq)"
   ]
  },
  {
   "cell_type": "code",
   "execution_count": 73,
   "id": "f999f55c-706b-4253-bb2f-8a17137e9437",
   "metadata": {},
   "outputs": [
    {
     "data": {
      "text/plain": [
       "Text(0.5, 1.0, 'France v Croatia, first goal: Posterior predictive distribtuion')"
      ]
     },
     "execution_count": 73,
     "metadata": {},
     "output_type": "execute_result"
    },
    {
     "data": {
      "image/png": "[encoded data removed]",
      "text/plain": [
       "<Figure size 432x288 with 1 Axes>"
      ]
     },
     "metadata": {
      "needs_background": "light"
     },
     "output_type": "display_data"
    }
   ],
   "source": [
    "#plot\n",
    "pred_france.plot(label='France', color='C3')\n",
    "pred_croatia.plot(label='Croatia', color='C0')\n",
    "plt.legend()\n",
    "plt.title(\"France v Croatia, first goal: Posterior predictive distribtuion\")"
   ]
  },
  {
   "cell_type": "code",
   "execution_count": null,
   "id": "889250ab-b92e-4eea-8455-659cc2bfe820",
   "metadata": {},
   "outputs": [],
   "source": []
  }
 ],
 "metadata": {
  "kernelspec": {
   "display_name": "Python 3 (ipykernel)",
   "language": "python",
   "name": "python3"
  },
  "language_info": {
   "codemirror_mode": {
    "name": "ipython",
    "version": 3
   },
   "file_extension": ".py",
   "mimetype": "text/x-python",
   "name": "python",
   "nbconvert_exporter": "python",
   "pygments_lexer": "ipython3",
   "version": "3.9.7"
  }
 },
 "nbformat": 4,
 "nbformat_minor": 5
}
