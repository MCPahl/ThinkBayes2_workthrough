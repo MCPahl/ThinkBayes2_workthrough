{
 "cells": [
  {
   "cell_type": "code",
   "execution_count": 2,
   "id": "9268554e-899b-466e-b22f-f7df52f037bb",
   "metadata": {},
   "outputs": [
    {
     "data": {
      "text/plain": [
       "'/Users/matthewpahl/Documents/Learning/Math/Statistics/BayesianStats/think_bayes/01_Probability'"
      ]
     },
     "execution_count": 2,
     "metadata": {},
     "output_type": "execute_result"
    }
   ],
   "source": [
    "#Notebook 01 for Think Bayes\n",
    "#Probability\n",
    "import os\n",
    "import pandas as pd\n",
    "import pyreadstat\n",
    "os.getcwd()"
   ]
  },
  {
   "cell_type": "markdown",
   "id": "b466d80f-4a9e-424b-833c-55eb44b38661",
   "metadata": {},
   "source": [
    "# Probability\n",
    "Bayes theorem is the foundation of Bayesian statistics and Bayes theorem is based on conditional probability\n",
    "\n",
    "### Example\n",
    "Linda is 31, single, outspoken, and bright.  She majored in philosophy. She was deeply concerned with issues of social justice and discrimination. Which is more probabable? \n",
    "    1 Linda is a bank teller\n",
    "    2 Linda is a bank teller AND is active in the feminist movement\n",
    "    \n",
    "Despite the information provided, 1 is more probable than 2, since the AND multiplies the probabilities together."
   ]
  },
  {
   "cell_type": "markdown",
   "id": "71724447-95be-477b-abc7-684896e6a131",
   "metadata": {},
   "source": [
    "Defining probability is difficult, for our purposes\n",
    "Probability: a fraction of a finite set\n",
    "\n",
    "#toy data General Social Survey (GSS) \n",
    "Columns of interest\n",
    "caseid - (index for table)\n",
    "year - year of response\n",
    "sex - male or female\n",
    "polviews - policial views on a score from liberal to conservative\n",
    "partyid - party affiliation, Democrat, Independent, or Republican\n",
    "inds10 - code for industry the respondant was employed\n"
   ]
  },
  {
   "cell_type": "code",
   "execution_count": 3,
   "id": "d61ad34c-6d28-4038-9fc6-55251d843cdc",
   "metadata": {},
   "outputs": [
    {
     "data": {
      "text/html": [
       "<div>\n",
       "<style scoped>\n",
       "    .dataframe tbody tr th:only-of-type {\n",
       "        vertical-align: middle;\n",
       "    }\n",
       "\n",
       "    .dataframe tbody tr th {\n",
       "        vertical-align: top;\n",
       "    }\n",
       "\n",
       "    .dataframe thead th {\n",
       "        text-align: right;\n",
       "    }\n",
       "</style>\n",
       "<table border=\"1\" class=\"dataframe\">\n",
       "  <thead>\n",
       "    <tr style=\"text-align: right;\">\n",
       "      <th></th>\n",
       "      <th>YEAR</th>\n",
       "      <th>ID</th>\n",
       "      <th>INDUS10</th>\n",
       "      <th>SEX</th>\n",
       "      <th>PARTYID</th>\n",
       "      <th>POLVIEWS</th>\n",
       "    </tr>\n",
       "  </thead>\n",
       "  <tbody>\n",
       "    <tr>\n",
       "      <th>0</th>\n",
       "      <td>1972.0</td>\n",
       "      <td>1.0</td>\n",
       "      <td>Clothing stores</td>\n",
       "      <td>FEMALE</td>\n",
       "      <td>IND,NEAR DEM</td>\n",
       "      <td>NaN</td>\n",
       "    </tr>\n",
       "    <tr>\n",
       "      <th>1</th>\n",
       "      <td>1972.0</td>\n",
       "      <td>2.0</td>\n",
       "      <td>Newspaper publishers</td>\n",
       "      <td>MALE</td>\n",
       "      <td>NOT STR DEMOCRAT</td>\n",
       "      <td>NaN</td>\n",
       "    </tr>\n",
       "    <tr>\n",
       "      <th>2</th>\n",
       "      <td>1972.0</td>\n",
       "      <td>3.0</td>\n",
       "      <td>Real estate</td>\n",
       "      <td>FEMALE</td>\n",
       "      <td>INDEPENDENT</td>\n",
       "      <td>NaN</td>\n",
       "    </tr>\n",
       "    <tr>\n",
       "      <th>3</th>\n",
       "      <td>1972.0</td>\n",
       "      <td>4.0</td>\n",
       "      <td>Clothing stores</td>\n",
       "      <td>FEMALE</td>\n",
       "      <td>NOT STR DEMOCRAT</td>\n",
       "      <td>NaN</td>\n",
       "    </tr>\n",
       "    <tr>\n",
       "      <th>4</th>\n",
       "      <td>1972.0</td>\n",
       "      <td>5.0</td>\n",
       "      <td>Wired telecommunications carriers</td>\n",
       "      <td>FEMALE</td>\n",
       "      <td>STRONG DEMOCRAT</td>\n",
       "      <td>NaN</td>\n",
       "    </tr>\n",
       "  </tbody>\n",
       "</table>\n",
       "</div>"
      ],
      "text/plain": [
       "     YEAR   ID                            INDUS10     SEX           PARTYID  \\\n",
       "0  1972.0  1.0                    Clothing stores  FEMALE      IND,NEAR DEM   \n",
       "1  1972.0  2.0               Newspaper publishers    MALE  NOT STR DEMOCRAT   \n",
       "2  1972.0  3.0                        Real estate  FEMALE       INDEPENDENT   \n",
       "3  1972.0  4.0                    Clothing stores  FEMALE  NOT STR DEMOCRAT   \n",
       "4  1972.0  5.0  Wired telecommunications carriers  FEMALE   STRONG DEMOCRAT   \n",
       "\n",
       "  POLVIEWS  \n",
       "0      NaN  \n",
       "1      NaN  \n",
       "2      NaN  \n",
       "3      NaN  \n",
       "4      NaN  "
      ]
     },
     "execution_count": 3,
     "metadata": {},
     "output_type": "execute_result"
    }
   ],
   "source": [
    "#load \n",
    "cols = [\"ID\", \"YEAR\", \"SEX\", \"POLVIEWS\", \"PARTYID\", \"INDUS10\"]\n",
    "gss = pd.read_spss('/Users/matthewpahl/Documents/Learning/Math/Statistics/BayesianStats/think_bayes/01_Probability/data/gss/GSS7218_R3.sav', usecols = cols)\n",
    "gss.head()"
   ]
  },
  {
   "cell_type": "markdown",
   "id": "e02accd9-dd5b-4f42-84c7-0cc9ad14ace8",
   "metadata": {
    "tags": []
   },
   "source": [
    "#check number of real estate agents in dataset (bankers were coded weird)"
   ]
  },
  {
   "cell_type": "code",
   "execution_count": 4,
   "id": "f89e85b9-3d19-4105-91ba-b57129a1c881",
   "metadata": {},
   "outputs": [
    {
     "data": {
      "text/plain": [
       "0    False\n",
       "1    False\n",
       "2     True\n",
       "3    False\n",
       "4    False\n",
       "Name: INDUS10, dtype: bool"
      ]
     },
     "execution_count": 4,
     "metadata": {},
     "output_type": "execute_result"
    }
   ],
   "source": [
    "realEstate = (gss['INDUS10'] == 'Real estate')\n",
    "realEstate.head()"
   ]
  },
  {
   "cell_type": "code",
   "execution_count": 5,
   "id": "f26b9888-55fa-491d-95f6-b8303d950bfa",
   "metadata": {},
   "outputs": [
    {
     "data": {
      "text/plain": [
       "913"
      ]
     },
     "execution_count": 5,
     "metadata": {},
     "output_type": "execute_result"
    }
   ],
   "source": [
    "realEstate.sum()"
   ]
  },
  {
   "cell_type": "code",
   "execution_count": 6,
   "id": "4bd3fc5f-df4f-4fd6-920f-dce970a5ed93",
   "metadata": {},
   "outputs": [
    {
     "data": {
      "text/plain": [
       "0.014086462801246645"
      ]
     },
     "execution_count": 6,
     "metadata": {},
     "output_type": "execute_result"
    }
   ],
   "source": [
    "def prob(A):\n",
    "    \"\"\"Compute probability of proposition, A.\"\"\"\n",
    "    return A.mean()\n",
    "\n",
    "prob(realEstate)"
   ]
  },
  {
   "cell_type": "markdown",
   "id": "4a02e45e-e4cd-401e-a366-a6d7dc9cf9c5",
   "metadata": {},
   "source": [
    "~1.4% of the respondants are real estate agents, so randomly selecting particiapants has a 1.4% probability of being a real estate agent. Next can check the sex of participants (true = female, false = male in the following)"
   ]
  },
  {
   "cell_type": "code",
   "execution_count": 7,
   "id": "bef06885-a740-404d-99d1-d6e4f3ac9397",
   "metadata": {},
   "outputs": [
    {
     "data": {
      "text/plain": [
       "0.5585213071250038"
      ]
     },
     "execution_count": 7,
     "metadata": {},
     "output_type": "execute_result"
    }
   ],
   "source": [
    "female = gss['SEX'] == 'FEMALE'\n",
    "prob(female)"
   ]
  },
  {
   "cell_type": "markdown",
   "id": "de031cf6-9fdf-48d8-8772-58a87c9155cb",
   "metadata": {},
   "source": [
    "More women than men in the dataset.  This is because GSS does not include people in the military or prison which are more likely to be men."
   ]
  },
  {
   "cell_type": "code",
   "execution_count": 8,
   "id": "a69044a2-f393-4c64-aa1e-e3fe530b125f",
   "metadata": {},
   "outputs": [
    {
     "data": {
      "text/plain": [
       "0.234609806523282"
      ]
     },
     "execution_count": 8,
     "metadata": {},
     "output_type": "execute_result"
    }
   ],
   "source": [
    "lib_cat = ['SLIGHTLY LIBERAL', 'LIBERAL', 'EXTREMELY LIBERAL']\n",
    "lib = gss['POLVIEWS'].isin(lib_cat)\n",
    "prob(lib)"
   ]
  },
  {
   "cell_type": "markdown",
   "id": "75e1f33d-a9a0-40f6-b55c-51881c81229f",
   "metadata": {},
   "source": [
    "#Conjunction\n",
    "Name for the logic \"AND\" operation\n",
    "\n",
    "A AND B are true, if and only if A is true, and B is true. Otherwise the conjugated statement is FALSE\n",
    "This relationship is communitative (B AND A is the same as A AND B)\n"
   ]
  },
  {
   "cell_type": "code",
   "execution_count": 9,
   "id": "9e19583e-5a29-4f77-bb15-2dbab29ef136",
   "metadata": {},
   "outputs": [
    {
     "data": {
      "text/plain": [
       "0.014086462801246645"
      ]
     },
     "execution_count": 9,
     "metadata": {},
     "output_type": "execute_result"
    }
   ],
   "source": [
    "#Conjuction\n",
    "prob(realEstate)"
   ]
  },
  {
   "cell_type": "code",
   "execution_count": 10,
   "id": "43142afe-113f-4747-bfa3-6f7f9ba6f8b0",
   "metadata": {},
   "outputs": [
    {
     "data": {
      "text/plain": [
       "0.0033943283858425648"
      ]
     },
     "execution_count": 10,
     "metadata": {},
     "output_type": "execute_result"
    }
   ],
   "source": [
    "prob(realEstate & lib)"
   ]
  },
  {
   "cell_type": "markdown",
   "id": "18157c2a-da6d-4e8b-8b65-2c2272e2ec98",
   "metadata": {
    "tags": []
   },
   "source": [
    "Probability of liberal real estate agents is lower than just real estate agents. This is expected as not all real estate agents are liberal"
   ]
  },
  {
   "cell_type": "markdown",
   "id": "4bfc3a7f-aa4b-4d47-824d-3b1eb0acd14b",
   "metadata": {},
   "source": [
    "#Conditional Probability\n",
    "the probability depending on a \n",
    "Ex\n",
    "What is the probability that a respondent is female, given they are a real estate agent"
   ]
  },
  {
   "cell_type": "code",
   "execution_count": 11,
   "id": "17d0fbaa-19f0-402b-bc50-a67ba9fc024f",
   "metadata": {},
   "outputs": [
    {
     "data": {
      "text/plain": [
       "0.5542548993818229"
      ]
     },
     "execution_count": 11,
     "metadata": {},
     "output_type": "execute_result"
    }
   ],
   "source": [
    "#fraction of liberals that are female\n",
    "selected = female[lib]\n",
    "prob(selected)"
   ]
  },
  {
   "cell_type": "code",
   "execution_count": 12,
   "id": "45b3617a-1c2e-4b40-b792-bee554211103",
   "metadata": {},
   "outputs": [],
   "source": [
    "#define conditional to compute probability given proposition and given\n",
    "def conditional(prop, given):\n",
    "    \"\"\"Probability of prop conditioned on given.\"\"\"\n",
    "    return(prob(prop[given]))"
   ]
  },
  {
   "cell_type": "code",
   "execution_count": 13,
   "id": "433ff863-2c77-478b-92e2-10cb0d051b89",
   "metadata": {},
   "outputs": [
    {
     "data": {
      "text/plain": [
       "0.23281767955801105"
      ]
     },
     "execution_count": 13,
     "metadata": {},
     "output_type": "execute_result"
    }
   ],
   "source": [
    "conditional(lib, given=female)"
   ]
  },
  {
   "cell_type": "markdown",
   "id": "ea2d5311-dd47-4a76-8dd8-72cfe5fc78ab",
   "metadata": {},
   "source": [
    "Conditional probability is not communicative\n",
    "P(A|B) is not the same as P(B|A)"
   ]
  },
  {
   "cell_type": "code",
   "execution_count": 14,
   "id": "00b174ae-a6f3-4385-a730-90ccc1b98fe1",
   "metadata": {},
   "outputs": [
    {
     "data": {
      "text/plain": [
       "0.5509309967141293"
      ]
     },
     "execution_count": 14,
     "metadata": {},
     "output_type": "execute_result"
    }
   ],
   "source": [
    "conditional(female, realEstate)"
   ]
  },
  {
   "cell_type": "code",
   "execution_count": 15,
   "id": "927f6508-387c-4478-8059-b83fb2541ade",
   "metadata": {},
   "outputs": [
    {
     "data": {
      "text/plain": [
       "0.013895027624309391"
      ]
     },
     "execution_count": 15,
     "metadata": {},
     "output_type": "execute_result"
    }
   ],
   "source": [
    "conditional(realEstate, female)"
   ]
  },
  {
   "cell_type": "markdown",
   "id": "47c25721-8454-4beb-8880-dae0859651a8",
   "metadata": {},
   "source": [
    "So while 55.1% of real estate agents are female, only 1.4% of female respondants are real estate agents."
   ]
  },
  {
   "cell_type": "markdown",
   "id": "61856b2a-e735-47b4-9663-71d9e1111739",
   "metadata": {},
   "source": [
    "Condition and Conjunction\n",
    "Can combine conditional probability and conjunctions\n"
   ]
  },
  {
   "cell_type": "code",
   "execution_count": 16,
   "id": "5f935b96-1982-47d5-81ae-6d3db651d5e5",
   "metadata": {},
   "outputs": [
    {
     "data": {
      "text/plain": [
       "0.0033701657458563537"
      ]
     },
     "execution_count": 16,
     "metadata": {},
     "output_type": "execute_result"
    }
   ],
   "source": [
    "conditional(realEstate & lib, female)"
   ]
  },
  {
   "cell_type": "code",
   "execution_count": 17,
   "id": "a85792e8-23ad-4a79-913b-778b31f525ba",
   "metadata": {},
   "outputs": [
    {
     "data": {
      "text/plain": [
       "0.014475557664926435"
      ]
     },
     "execution_count": 17,
     "metadata": {},
     "output_type": "execute_result"
    }
   ],
   "source": [
    "conditional(realEstate, female & lib)"
   ]
  },
  {
   "cell_type": "markdown",
   "id": "ad3c6e8c-246e-4820-bcc5-1a81e20ec9b2",
   "metadata": {},
   "source": [
    "about 0.3% of female respondants are liberal real estate agents, and about 1.4% of real estate agents are liberal female respondants"
   ]
  },
  {
   "cell_type": "markdown",
   "id": "fa036405-b027-455c-bdfd-816d8d76e563",
   "metadata": {},
   "source": [
    "# Laws of probability\n",
    "### Theorem 1: P(A|B) = P(A & B) / P(A)"
   ]
  },
  {
   "cell_type": "code",
   "execution_count": 20,
   "id": "5760b965-df14-47a3-badf-8f3e215806ba",
   "metadata": {},
   "outputs": [
    {
     "data": {
      "text/plain": [
       "0.5509309967141293"
      ]
     },
     "execution_count": 20,
     "metadata": {},
     "output_type": "execute_result"
    }
   ],
   "source": [
    "prob(female & realEstate) / prob(realEstate)"
   ]
  },
  {
   "cell_type": "code",
   "execution_count": 19,
   "id": "568a34d0-832e-4f4b-bcde-c995ea3cde51",
   "metadata": {},
   "outputs": [
    {
     "data": {
      "text/plain": [
       "0.5509309967141293"
      ]
     },
     "execution_count": 19,
     "metadata": {},
     "output_type": "execute_result"
    }
   ],
   "source": [
    "conditional(female, given=realEstate)"
   ]
  },
  {
   "cell_type": "markdown",
   "id": "a96fb97a-0c12-4a39-a3c7-f132263481ae",
   "metadata": {},
   "source": [
    "### Theorem 2: P(A & B) = P(A|B) * P(B)\n",
    "Just algebraic rearrangement of theorem 1\n",
    "Probability of A and B equals the probability of A given B multiplied by probability of B. Implies that rather than using the AND operator, can just multiple two probabilities."
   ]
  },
  {
   "cell_type": "code",
   "execution_count": 21,
   "id": "23aa507b-1560-498c-b764-633403429238",
   "metadata": {},
   "outputs": [
    {
     "data": {
      "text/plain": [
       "0.007760668991267319"
      ]
     },
     "execution_count": 21,
     "metadata": {},
     "output_type": "execute_result"
    }
   ],
   "source": [
    "prob(female & realEstate)"
   ]
  },
  {
   "cell_type": "code",
   "execution_count": 22,
   "id": "cf5c3625-308e-4666-8a43-6ba2638686b0",
   "metadata": {},
   "outputs": [
    {
     "data": {
      "text/plain": [
       "0.0077606689912673174"
      ]
     },
     "execution_count": 22,
     "metadata": {},
     "output_type": "execute_result"
    }
   ],
   "source": [
    "prob(female) * conditional(realEstate, given = female)"
   ]
  },
  {
   "cell_type": "markdown",
   "id": "7c272629-8da8-437f-8955-5cb9878e31e6",
   "metadata": {},
   "source": [
    "### Theorem 3: \n",
    "Conjuction is Commutative:\n",
    "    P(A and B) = P(B and A) (1)\n",
    "Apply theorem 2 to both sides\n",
    "    P(A|B) * P(B) = P(B|A) * P(A)\n",
    "Divide by P(B) on both sides:\n",
    "    P(A|B) = P(B|A) * P(A)/P(B) which is Bayes Theorem"
   ]
  },
  {
   "cell_type": "code",
   "execution_count": 23,
   "id": "d1989ad9-d7b5-47ba-8cee-73b02752f039",
   "metadata": {},
   "outputs": [
    {
     "data": {
      "text/plain": [
       "0.24096385542168675"
      ]
     },
     "execution_count": 23,
     "metadata": {},
     "output_type": "execute_result"
    }
   ],
   "source": [
    "conditional(lib, given = realEstate)"
   ]
  },
  {
   "cell_type": "code",
   "execution_count": 24,
   "id": "c8aaabb4-c7b0-44ac-a3fb-a432d2d89497",
   "metadata": {},
   "outputs": [
    {
     "data": {
      "text/plain": [
       "0.24096385542168677"
      ]
     },
     "execution_count": 24,
     "metadata": {},
     "output_type": "execute_result"
    }
   ],
   "source": [
    "conditional(realEstate, given = lib) * prob(lib) / prob(realEstate)"
   ]
  },
  {
   "cell_type": "markdown",
   "id": "6a289b86-a560-46be-89f3-5706b5b71080",
   "metadata": {},
   "source": [
    "# Law of total probability\n",
    "P(A) = P(A|B1) + P(A|B2), where B1 and B2 are mutually exclusive and exhaustive\n",
    "\n",
    "Applying theorem 2.\n",
    "P(A) = P(B1)*P(A|B1) + P(B2)*P(A|B2)\n",
    "\n",
    "Which can be generalized to\n",
    "\n",
    "P(A) = SUM( P(Bi) * P(A|Bi) ) \n",
    "With the conditions that Bi are mutually exclusive and exhaustive"
   ]
  }
 ],
 "metadata": {
  "kernelspec": {
   "display_name": "Python 3 (ipykernel)",
   "language": "python",
   "name": "python3"
  },
  "language_info": {
   "codemirror_mode": {
    "name": "ipython",
    "version": 3
   },
   "file_extension": ".py",
   "mimetype": "text/x-python",
   "name": "python",
   "nbconvert_exporter": "python",
   "pygments_lexer": "ipython3",
   "version": "3.9.7"
  }
 },
 "nbformat": 4,
 "nbformat_minor": 5
}
